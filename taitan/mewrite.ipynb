{
 "cells": [
  {
   "cell_type": "code",
   "execution_count": 106,
   "metadata": {},
   "outputs": [
    {
     "name": "stdout",
     "output_type": "stream",
     "text": [
      "<class 'pandas.core.frame.DataFrame'>\n",
      "RangeIndex: 891 entries, 0 to 890\n",
      "Data columns (total 8 columns):\n",
      "Age         714 non-null float64\n",
      "Fare        891 non-null float64\n",
      "Sex         891 non-null int32\n",
      "Cabin       891 non-null int32\n",
      "Embarked    891 non-null int32\n",
      "Pclass      891 non-null int64\n",
      "Parch       891 non-null int64\n",
      "SibSp       891 non-null int64\n",
      "dtypes: float64(2), int32(3), int64(3)\n",
      "memory usage: 45.3 KB\n"
     ]
    }
   ],
   "source": [
    "#泰坦尼克号存活人数预测\n",
    "import pandas as pd\n",
    "import numpy as np\n",
    "from woe import WoE # 从本地导入\n",
    "\n",
    "\n",
    "#1.数据获取与导入阶段\n",
    "data=pd.read_csv('train.csv')\n",
    "\n",
    "#将Cabin的值进行分类处理\n",
    "data.loc[ (data.Cabin.notnull()), 'Cabin' ] = 1\n",
    "data.loc[ (data.Cabin.isnull()), 'Cabin' ] = 0\n",
    "data['Cabin']=data['Cabin'].astype(int)\n",
    "\n",
    "\n",
    "#将Sex和Embarked做转换\n",
    "\n",
    "data['Embarked']=data.Embarked.fillna(value='S')\n",
    "\n",
    "sex_dict={'female':'1','male':'0'}\n",
    "data['Sex']=data.Sex.map(sex_dict).astype(int)\n",
    "\n",
    "embarked_dict={'S':'1','C':'2','Q':'3'}\n",
    "data['Embarked']=data.Embarked.map(embarked_dict).astype(int)\n",
    "\n",
    "\n",
    "#目标变量\n",
    "y = 'Survived'\n",
    "\n",
    "# 连续变量\n",
    "var_c = ['Age','Fare']\n",
    "\n",
    "# 分类变量\n",
    "var_d = ['Sex','Cabin','Embarked','Pclass','Parch','SibSp']\n",
    "\n",
    "# **WoE类参数说明**:\n",
    "# + **qnt_num**:int,等频分箱个数,默认16\n",
    "# + **min_block_size**:int,最小观测数目，默认16\n",
    "# + **spec_values**:dict,若为分类自变量，指派替换值\n",
    "# + **v_type**:str,自变量类型,分类:‘d’,连续变量:‘c’，默认'c'\n",
    "# + **bins**:list,预定义的连续变量分箱区间\n",
    "# + **t_type**:str,目标变量类型,二分类:‘b’,连续变量:‘c’，默认'b'\n",
    "\n",
    "# **WoE类重要方法**:\n",
    "# \n",
    "# + **plot**:绘制WOE图\n",
    "# + **transform**:转换数据为WOE数据\n",
    "# + **fit_transform**:转换数据为WOE数据\n",
    "# + **optimize**:连续变量使用最优分箱\n",
    "\n",
    "# **WoE类重要属性**:\n",
    "# + **bins**:分箱结果汇总\n",
    "# + **iv**:变量的信息价值\n",
    "\n",
    "# ## 根据IV值筛选变量 - 分类变量\n",
    "\n",
    "\n",
    "\n",
    "X = data[var_c + var_d].copy()\n",
    "\n",
    "Y = data[y].copy()\n",
    "\n",
    "iv_d = {}\n",
    "for i in var_d:\n",
    "    iv_d[i] = WoE(v_type='d').fit(X[i].copy(), Y.copy()).iv\n",
    "\n",
    "pd.Series(iv_d).sort_values(ascending = False)\n",
    "\n",
    "\n",
    "iv_c = {}\n",
    "for i in var_c:\n",
    "    iv_c[i] = WoE(v_type='c',t_type='b',qnt_num=3).fit(X[i],Y).iv \n",
    "\n",
    "sort_iv_c = pd.Series(iv_c).sort_values(ascending=False)\n",
    "sort_iv_c\n",
    "\n",
    "\n",
    "X.info()"
   ]
  },
  {
   "cell_type": "code",
   "execution_count": 107,
   "metadata": {},
   "outputs": [
    {
     "name": "stdout",
     "output_type": "stream",
     "text": [
      "<class 'pandas.core.frame.DataFrame'>\n",
      "RangeIndex: 891 entries, 0 to 890\n",
      "Data columns (total 8 columns):\n",
      "Age         714 non-null float64\n",
      "Fare        891 non-null float64\n",
      "Sex         891 non-null int32\n",
      "Cabin       891 non-null int32\n",
      "Embarked    891 non-null int32\n",
      "Pclass      891 non-null int64\n",
      "Parch       891 non-null int64\n",
      "SibSp       891 non-null int64\n",
      "dtypes: float64(2), int32(3), int64(3)\n",
      "memory usage: 45.3 KB\n"
     ]
    }
   ],
   "source": [
    "#2.针对每个变量的探索阶段\n",
    "\n",
    "# 利用众数减去中位数的差值除以四分位距来查找是否有可能存在异常值\n",
    "abs((X[var_c].mode().iloc[0,] - X[var_c].median()) /\n",
    "    (X[var_c].quantile(0.75) - X[var_c].quantile(0.25)))\n",
    "\n",
    "\n",
    "# ## 对分类变量的统计探索\n",
    "#查看是否分类过多\n",
    "# In[15]:\n",
    "X['Parch'].value_counts()\n",
    "X['SibSp'].value_counts()\n",
    "\n",
    "len(X['SibSp'].value_counts())\n",
    "X['Embarked'].value_counts()\n",
    "\n",
    "X.info()"
   ]
  },
  {
   "cell_type": "code",
   "execution_count": 168,
   "metadata": {},
   "outputs": [
    {
     "data": {
      "text/html": [
       "<div>\n",
       "<style scoped>\n",
       "    .dataframe tbody tr th:only-of-type {\n",
       "        vertical-align: middle;\n",
       "    }\n",
       "\n",
       "    .dataframe tbody tr th {\n",
       "        vertical-align: top;\n",
       "    }\n",
       "\n",
       "    .dataframe thead th {\n",
       "        text-align: right;\n",
       "    }\n",
       "</style>\n",
       "<table border=\"1\" class=\"dataframe\">\n",
       "  <thead>\n",
       "    <tr style=\"text-align: right;\">\n",
       "      <th></th>\n",
       "      <th>Sex</th>\n",
       "      <th>Cabin</th>\n",
       "      <th>Embarked</th>\n",
       "      <th>Pclass</th>\n",
       "      <th>SibSp</th>\n",
       "    </tr>\n",
       "  </thead>\n",
       "  <tbody>\n",
       "    <tr>\n",
       "      <th>0</th>\n",
       "      <td>0</td>\n",
       "      <td>0</td>\n",
       "      <td>1</td>\n",
       "      <td>3</td>\n",
       "      <td>1</td>\n",
       "    </tr>\n",
       "    <tr>\n",
       "      <th>1</th>\n",
       "      <td>1</td>\n",
       "      <td>1</td>\n",
       "      <td>2</td>\n",
       "      <td>1</td>\n",
       "      <td>1</td>\n",
       "    </tr>\n",
       "    <tr>\n",
       "      <th>2</th>\n",
       "      <td>1</td>\n",
       "      <td>0</td>\n",
       "      <td>1</td>\n",
       "      <td>3</td>\n",
       "      <td>0</td>\n",
       "    </tr>\n",
       "    <tr>\n",
       "      <th>3</th>\n",
       "      <td>1</td>\n",
       "      <td>1</td>\n",
       "      <td>1</td>\n",
       "      <td>1</td>\n",
       "      <td>1</td>\n",
       "    </tr>\n",
       "    <tr>\n",
       "      <th>4</th>\n",
       "      <td>0</td>\n",
       "      <td>0</td>\n",
       "      <td>1</td>\n",
       "      <td>3</td>\n",
       "      <td>0</td>\n",
       "    </tr>\n",
       "  </tbody>\n",
       "</table>\n",
       "</div>"
      ],
      "text/plain": [
       "   Sex  Cabin  Embarked  Pclass  SibSp\n",
       "0    0      0         1       3      1\n",
       "1    1      1         2       1      1\n",
       "2    1      0         1       3      0\n",
       "3    1      1         1       1      1\n",
       "4    0      0         1       3      0"
      ]
     },
     "execution_count": 168,
     "metadata": {},
     "output_type": "execute_result"
    }
   ],
   "source": [
    "#3.针对有问题的变量进行修改\n",
    "\n",
    "# 查看缺失比例\n",
    "\n",
    "1 - (X.describe().T[\"count\"]) / len(X)\n",
    "\n",
    "#Age 缺失值为19.8%，使用中位数来填补\n",
    "#X['Age']=X.Age.fillna(X.Age.median())\n",
    "#X=X.drop(['Age','Fare'],axis=1)\n",
    "X=X.drop(['Parch'],axis=1)\n",
    "X.head()"
   ]
  },
  {
   "cell_type": "code",
   "execution_count": 169,
   "metadata": {},
   "outputs": [],
   "source": [
    "import sklearn.model_selection as model_selection\n",
    "ml_data = model_selection.train_test_split(X, Y, test_size=0.3, random_state=0)\n",
    "train_data, test_data, train_target, test_target = ml_data"
   ]
  },
  {
   "cell_type": "code",
   "execution_count": 203,
   "metadata": {},
   "outputs": [
    {
     "data": {
      "text/plain": [
       "array([[0.   , 1.   , 0.   , 0.   , 0.   ],\n",
       "       [1.   , 1.   , 0.5  , 0.   , 0.125],\n",
       "       [0.   , 0.   , 0.   , 1.   , 0.625],\n",
       "       ...,\n",
       "       [0.   , 0.   , 1.   , 1.   , 0.   ],\n",
       "       [1.   , 0.   , 0.   , 1.   , 0.125],\n",
       "       [0.   , 0.   , 0.   , 0.5  , 0.125]])"
      ]
     },
     "execution_count": 203,
     "metadata": {},
     "output_type": "execute_result"
    }
   ],
   "source": [
    "from sklearn import preprocessing\n",
    "min_max_scaler = preprocessing.MinMaxScaler()\n",
    "\n",
    "train_data = min_max_scaler.fit_transform(train_data)\n",
    "test_data = min_max_scaler.fit_transform(test_data)\n",
    "train_data"
   ]
  },
  {
   "cell_type": "code",
   "execution_count": 171,
   "metadata": {},
   "outputs": [],
   "source": [
    "import sklearn.linear_model as linear_model\n",
    "logistic_model = linear_model.LogisticRegression(class_weight = None,\n",
    "                                                 dual = False,\n",
    "                                                 fit_intercept = True,\n",
    "                                                 intercept_scaling = 1,\n",
    "                                                 penalty = 'l1',\n",
    "                                                 random_state = None,\n",
    "                                                 tol = 0.001)"
   ]
  },
  {
   "cell_type": "code",
   "execution_count": 172,
   "metadata": {},
   "outputs": [
    {
     "data": {
      "text/plain": [
       "GridSearchCV(cv=5, error_score='raise',\n",
       "       estimator=LogisticRegression(C=1.0, class_weight=None, dual=False, fit_intercept=True,\n",
       "          intercept_scaling=1, max_iter=100, multi_class='ovr', n_jobs=1,\n",
       "          penalty='l1', random_state=None, solver='liblinear', tol=0.001,\n",
       "          verbose=0, warm_start=False),\n",
       "       fit_params=None, iid=True, n_jobs=1,\n",
       "       param_grid={'C': array([0.001  , 0.00144, 0.00207, 0.00298, 0.00428, 0.00616, 0.00886,\n",
       "       0.01274, 0.01833, 0.02637, 0.03793, 0.05456, 0.07848, 0.11288,\n",
       "       0.16238, 0.23357, 0.33598, 0.48329, 0.69519, 1.     ])},\n",
       "       pre_dispatch='2*n_jobs', refit=True, return_train_score='warn',\n",
       "       scoring='roc_auc', verbose=0)"
      ]
     },
     "execution_count": 172,
     "metadata": {},
     "output_type": "execute_result"
    }
   ],
   "source": [
    "from sklearn.model_selection import ParameterGrid, GridSearchCV\n",
    "\n",
    "C = np.logspace(-3,0,20,base=10)\n",
    "\n",
    "param_grid = {'C': C}\n",
    "\n",
    "clf_cv = GridSearchCV(estimator=logistic_model, \n",
    "                      param_grid=param_grid, \n",
    "                      cv=5, \n",
    "                      scoring='roc_auc')\n",
    "\n",
    "clf_cv.fit(train_data, train_target)"
   ]
  },
  {
   "cell_type": "code",
   "execution_count": 193,
   "metadata": {},
   "outputs": [
    {
     "data": {
      "text/plain": [
       "LogisticRegression(C=0.23357214690901212, class_weight=None, dual=False,\n",
       "          fit_intercept=True, intercept_scaling=1, max_iter=100,\n",
       "          multi_class='ovr', n_jobs=1, penalty='l1', random_state=None,\n",
       "          solver='liblinear', tol=0.001, verbose=0, warm_start=False)"
      ]
     },
     "execution_count": 193,
     "metadata": {},
     "output_type": "execute_result"
    }
   ],
   "source": [
    "logistic_model = linear_model.LogisticRegression(C=clf_cv.best_params_[\"C\"],\n",
    "                                                 class_weight=None,\n",
    "                                                 dual=False,\n",
    "                                                 fit_intercept=True,\n",
    "                                                 intercept_scaling=1,\n",
    "                                                 penalty='l1',\n",
    "                                                 random_state=None,\n",
    "                                                 tol=0.001)\n",
    "logistic_model.fit(train_data, train_target)"
   ]
  },
  {
   "cell_type": "code",
   "execution_count": 194,
   "metadata": {},
   "outputs": [
    {
     "data": {
      "text/html": [
       "<table class=\"simpletable\">\n",
       "<tr>\n",
       "      <td></td>         <th>coef</th>     <th>std err</th>      <th>z</th>      <th>P>|z|</th>  <th>[0.025</th>    <th>0.975]</th>  \n",
       "</tr>\n",
       "<tr>\n",
       "  <th>Intercept</th> <td>   -0.1809</td> <td>    0.500</td> <td>   -0.362</td> <td> 0.718</td> <td>   -1.161</td> <td>    0.800</td>\n",
       "</tr>\n",
       "<tr>\n",
       "  <th>Sex</th>       <td>    2.7082</td> <td>    0.230</td> <td>   11.759</td> <td> 0.000</td> <td>    2.257</td> <td>    3.160</td>\n",
       "</tr>\n",
       "<tr>\n",
       "  <th>Cabin</th>     <td>    0.4555</td> <td>    0.342</td> <td>    1.331</td> <td> 0.183</td> <td>   -0.215</td> <td>    1.126</td>\n",
       "</tr>\n",
       "<tr>\n",
       "  <th>Embarked</th>  <td>    0.2633</td> <td>    0.163</td> <td>    1.617</td> <td> 0.106</td> <td>   -0.056</td> <td>    0.582</td>\n",
       "</tr>\n",
       "<tr>\n",
       "  <th>Pclass</th>    <td>   -0.7266</td> <td>    0.182</td> <td>   -3.995</td> <td> 0.000</td> <td>   -1.083</td> <td>   -0.370</td>\n",
       "</tr>\n",
       "<tr>\n",
       "  <th>SibSp</th>     <td>   -0.3107</td> <td>    0.120</td> <td>   -2.594</td> <td> 0.009</td> <td>   -0.545</td> <td>   -0.076</td>\n",
       "</tr>\n",
       "</table>"
      ],
      "text/plain": [
       "<class 'statsmodels.iolib.table.SimpleTable'>"
      ]
     },
     "execution_count": 194,
     "metadata": {},
     "output_type": "execute_result"
    }
   ],
   "source": [
    "import statsmodels.api as sm\n",
    "import statsmodels.formula.api as smf\n",
    "\n",
    "model=X.join(train_target)\n",
    "'''\n",
    "['Sex','Cabin','Embarked','Pclass','Parch','SibSp']\n",
    "'''\n",
    "\n",
    "\n",
    "formula = \"Survived ~ \" + \"+\".join(X)\n",
    "lg_m = smf.glm(formula=formula, data=model, \n",
    "             family=sm.families.Binomial(sm.families.links.logit)).fit()\n",
    "lg_m.summary().tables[1]"
   ]
  },
  {
   "cell_type": "code",
   "execution_count": 195,
   "metadata": {},
   "outputs": [
    {
     "name": "stdout",
     "output_type": "stream",
     "text": [
      "AUC = 0.8467\n"
     ]
    },
    {
     "data": {
      "image/png": "[encoded data removed]",
      "text/plain": [
       "<Figure size 432x432 with 1 Axes>"
      ]
     },
     "metadata": {},
     "output_type": "display_data"
    }
   ],
   "source": [
    "import sklearn.metrics as metrics\n",
    "import matplotlib.pyplot as plt\n",
    "\n",
    "test_est = logistic_model.predict(test_data)\n",
    "train_est = logistic_model.predict(train_data)\n",
    "\n",
    "test_est_p = logistic_model.predict_proba(test_data)[:,1]\n",
    "train_est_p = logistic_model.predict_proba(train_data)[:,1]\n",
    "\n",
    "fpr_test, tpr_test, th_test = metrics.roc_curve(test_target, test_est_p)\n",
    "fpr_train, tpr_train, th_train = metrics.roc_curve(train_target, train_est_p)\n",
    "plt.figure(figsize=[6,6])\n",
    "plt.plot(fpr_test, tpr_test, 'b--')\n",
    "plt.plot(fpr_train, tpr_train, 'r--')\n",
    "plt.title('ROC curve')\n",
    "print('AUC = %6.4f' %metrics.auc(fpr_test, tpr_test))\n"
   ]
  },
  {
   "cell_type": "code",
   "execution_count": 196,
   "metadata": {},
   "outputs": [
    {
     "name": "stdout",
     "output_type": "stream",
     "text": [
      "<class 'pandas.core.frame.DataFrame'>\n",
      "RangeIndex: 418 entries, 0 to 417\n",
      "Data columns (total 11 columns):\n",
      "PassengerId    418 non-null int64\n",
      "Pclass         418 non-null int64\n",
      "Name           418 non-null object\n",
      "Sex            418 non-null object\n",
      "Age            332 non-null float64\n",
      "SibSp          418 non-null int64\n",
      "Parch          418 non-null int64\n",
      "Ticket         418 non-null object\n",
      "Fare           417 non-null float64\n",
      "Cabin          91 non-null object\n",
      "Embarked       418 non-null object\n",
      "dtypes: float64(2), int64(4), object(5)\n",
      "memory usage: 27.8+ KB\n"
     ]
    }
   ],
   "source": [
    "#处理test.csv文件（和train一样需要做预处理）\n",
    "\n",
    "\n",
    "data_=pd.read_csv('test.csv')\n",
    "data_.info()"
   ]
  },
  {
   "cell_type": "code",
   "execution_count": 197,
   "metadata": {},
   "outputs": [
    {
     "name": "stdout",
     "output_type": "stream",
     "text": [
      "<class 'pandas.core.frame.DataFrame'>\n",
      "RangeIndex: 418 entries, 0 to 417\n",
      "Data columns (total 11 columns):\n",
      "PassengerId    418 non-null int64\n",
      "Pclass         418 non-null int64\n",
      "Name           418 non-null object\n",
      "Sex            418 non-null int32\n",
      "Age            332 non-null float64\n",
      "SibSp          418 non-null int64\n",
      "Parch          418 non-null int64\n",
      "Ticket         418 non-null object\n",
      "Fare           417 non-null float64\n",
      "Cabin          418 non-null int32\n",
      "Embarked       418 non-null int32\n",
      "dtypes: float64(2), int32(3), int64(4), object(2)\n",
      "memory usage: 27.8+ KB\n"
     ]
    }
   ],
   "source": [
    "#将Cabin的值进行分类处理\n",
    "data_.loc[ (data_.Cabin.notnull()), 'Cabin' ] = 1\n",
    "data_.loc[ (data_.Cabin.isnull()), 'Cabin' ] = 0\n",
    "data_['Cabin']=data_['Cabin'].astype(int)\n",
    "\n",
    "\n",
    "'''\n",
    "Age\tFare\tSex\tCabin\tEmbarked\tPclass\tParch\tSibSp\n",
    "'''\n",
    "\n",
    "\n",
    "#将Sex和Embarked做转换\n",
    "\n",
    "#data['Embarked']=data.Embarked.fillna(value='S')\n",
    "\n",
    "sex_dict={'female':'1','male':'0'}\n",
    "data_['Sex']=data_.Sex.map(sex_dict).astype(int)\n",
    "\n",
    "embarked_dict={'S':'1','C':'2','Q':'3'}\n",
    "data_['Embarked']=data_.Embarked.map(embarked_dict).astype(int)\n",
    "\n",
    "data_.info()\n"
   ]
  },
  {
   "cell_type": "code",
   "execution_count": 198,
   "metadata": {},
   "outputs": [
    {
     "name": "stdout",
     "output_type": "stream",
     "text": [
      "<class 'pandas.core.frame.DataFrame'>\n",
      "RangeIndex: 418 entries, 0 to 417\n",
      "Data columns (total 11 columns):\n",
      "PassengerId    418 non-null int64\n",
      "Pclass         418 non-null int64\n",
      "Name           418 non-null object\n",
      "Sex            418 non-null int32\n",
      "Age            332 non-null float64\n",
      "SibSp          418 non-null int64\n",
      "Parch          418 non-null int64\n",
      "Ticket         418 non-null object\n",
      "Fare           417 non-null float64\n",
      "Cabin          418 non-null int32\n",
      "Embarked       418 non-null int32\n",
      "dtypes: float64(2), int32(3), int64(4), object(2)\n",
      "memory usage: 27.8+ KB\n"
     ]
    }
   ],
   "source": [
    "data_.info()"
   ]
  },
  {
   "cell_type": "code",
   "execution_count": 199,
   "metadata": {},
   "outputs": [
    {
     "name": "stdout",
     "output_type": "stream",
     "text": [
      "<class 'pandas.core.frame.DataFrame'>\n",
      "RangeIndex: 418 entries, 0 to 417\n",
      "Data columns (total 8 columns):\n",
      "Sex         418 non-null int32\n",
      "Cabin       418 non-null int32\n",
      "Embarked    418 non-null int32\n",
      "Pclass      418 non-null int64\n",
      "Parch       418 non-null int64\n",
      "SibSp       418 non-null int64\n",
      "Age         332 non-null float64\n",
      "Fare        417 non-null float64\n",
      "dtypes: float64(2), int32(3), int64(3)\n",
      "memory usage: 21.3 KB\n"
     ]
    }
   ],
   "source": [
    "var=['Sex','Cabin','Embarked','Pclass','Parch','SibSp','Age','Fare']\n",
    "\n",
    "XX=data_[var].copy()\n",
    "XX.info()\n"
   ]
  },
  {
   "cell_type": "code",
   "execution_count": 200,
   "metadata": {},
   "outputs": [
    {
     "data": {
      "text/html": [
       "<div>\n",
       "<style scoped>\n",
       "    .dataframe tbody tr th:only-of-type {\n",
       "        vertical-align: middle;\n",
       "    }\n",
       "\n",
       "    .dataframe tbody tr th {\n",
       "        vertical-align: top;\n",
       "    }\n",
       "\n",
       "    .dataframe thead th {\n",
       "        text-align: right;\n",
       "    }\n",
       "</style>\n",
       "<table border=\"1\" class=\"dataframe\">\n",
       "  <thead>\n",
       "    <tr style=\"text-align: right;\">\n",
       "      <th></th>\n",
       "      <th>Sex</th>\n",
       "      <th>Cabin</th>\n",
       "      <th>Embarked</th>\n",
       "      <th>Pclass</th>\n",
       "      <th>Parch</th>\n",
       "    </tr>\n",
       "  </thead>\n",
       "  <tbody>\n",
       "    <tr>\n",
       "      <th>0</th>\n",
       "      <td>0</td>\n",
       "      <td>0</td>\n",
       "      <td>3</td>\n",
       "      <td>3</td>\n",
       "      <td>0</td>\n",
       "    </tr>\n",
       "    <tr>\n",
       "      <th>1</th>\n",
       "      <td>1</td>\n",
       "      <td>0</td>\n",
       "      <td>1</td>\n",
       "      <td>3</td>\n",
       "      <td>0</td>\n",
       "    </tr>\n",
       "    <tr>\n",
       "      <th>2</th>\n",
       "      <td>0</td>\n",
       "      <td>0</td>\n",
       "      <td>3</td>\n",
       "      <td>2</td>\n",
       "      <td>0</td>\n",
       "    </tr>\n",
       "    <tr>\n",
       "      <th>3</th>\n",
       "      <td>0</td>\n",
       "      <td>0</td>\n",
       "      <td>1</td>\n",
       "      <td>3</td>\n",
       "      <td>0</td>\n",
       "    </tr>\n",
       "    <tr>\n",
       "      <th>4</th>\n",
       "      <td>1</td>\n",
       "      <td>0</td>\n",
       "      <td>1</td>\n",
       "      <td>3</td>\n",
       "      <td>1</td>\n",
       "    </tr>\n",
       "  </tbody>\n",
       "</table>\n",
       "</div>"
      ],
      "text/plain": [
       "   Sex  Cabin  Embarked  Pclass  Parch\n",
       "0    0      0         3       3      0\n",
       "1    1      0         1       3      0\n",
       "2    0      0         3       2      0\n",
       "3    0      0         1       3      0\n",
       "4    1      0         1       3      1"
      ]
     },
     "execution_count": 200,
     "metadata": {},
     "output_type": "execute_result"
    }
   ],
   "source": [
    "# 查看缺失比例\n",
    "\n",
    "1 - (XX.describe().T[\"count\"]) / len(XX)\n",
    "\n",
    "\n",
    "#Age 缺失值为19.8%，Fare,使用中位数来填补\n",
    "XX['Age']=XX.Age.fillna(XX.Age.median())\n",
    "XX['Fare']=XX.Fare.fillna(XX.Fare.median())\n",
    "\n",
    "XX=XX.drop(['Age','Fare','SibSp'],axis=1)\n",
    "XX.head()"
   ]
  },
  {
   "cell_type": "code",
   "execution_count": 201,
   "metadata": {},
   "outputs": [
    {
     "data": {
      "text/plain": [
       "array([0, 1, 0, 0, 1, 0, 1, 0, 1, 0, 0, 0, 1, 0, 1, 1, 0, 0, 1, 1, 0, 0,\n",
       "       1, 0, 1, 0, 1, 0, 0, 0, 0, 0, 1, 1, 0, 0, 1, 1, 0, 0, 0, 0, 0, 1,\n",
       "       1, 0, 0, 0, 1, 1, 0, 0, 1, 1, 0, 0, 0, 0, 0, 1, 0, 0, 0, 1, 0, 1,\n",
       "       1, 0, 0, 1, 1, 0, 1, 0, 1, 0, 0, 1, 0, 1, 0, 0, 0, 0, 0, 0, 1, 1,\n",
       "       1, 0, 1, 0, 1, 0, 0, 0, 1, 0, 1, 0, 1, 0, 0, 0, 1, 0, 0, 0, 0, 0,\n",
       "       0, 1, 1, 1, 1, 0, 0, 1, 0, 1, 1, 0, 1, 0, 0, 1, 0, 1, 0, 0, 0, 0,\n",
       "       1, 0, 0, 0, 0, 0, 1, 0, 1, 1, 0, 0, 0, 0, 0, 0, 0, 0, 1, 0, 0, 1,\n",
       "       0, 0, 1, 1, 0, 1, 1, 0, 1, 0, 0, 1, 0, 0, 1, 1, 0, 0, 0, 0, 0, 1,\n",
       "       1, 0, 1, 1, 0, 0, 1, 0, 1, 0, 1, 0, 1, 0, 0, 0, 0, 0, 0, 0, 0, 1,\n",
       "       0, 1, 1, 0, 0, 1, 0, 0, 1, 0, 1, 0, 0, 0, 0, 1, 1, 0, 1, 0, 1, 0,\n",
       "       1, 0, 1, 0, 1, 1, 0, 1, 0, 0, 0, 1, 0, 0, 0, 0, 0, 0, 1, 1, 1, 1,\n",
       "       0, 0, 0, 0, 1, 0, 1, 1, 1, 0, 0, 0, 0, 0, 0, 0, 1, 0, 0, 0, 1, 1,\n",
       "       0, 0, 0, 0, 1, 0, 0, 0, 1, 1, 0, 1, 0, 0, 0, 0, 1, 0, 1, 1, 1, 0,\n",
       "       0, 0, 0, 0, 0, 1, 0, 0, 0, 0, 1, 0, 0, 0, 0, 0, 0, 0, 1, 1, 0, 0,\n",
       "       0, 1, 0, 0, 0, 1, 1, 1, 0, 0, 0, 0, 0, 0, 0, 0, 1, 0, 1, 0, 0, 0,\n",
       "       1, 0, 0, 1, 0, 0, 0, 0, 0, 0, 0, 0, 0, 1, 0, 1, 0, 1, 0, 1, 1, 0,\n",
       "       0, 0, 1, 0, 1, 0, 0, 1, 0, 1, 1, 0, 1, 1, 0, 1, 1, 0, 0, 1, 0, 0,\n",
       "       1, 1, 1, 0, 0, 0, 0, 0, 1, 1, 0, 1, 0, 0, 0, 0, 0, 1, 0, 0, 0, 1,\n",
       "       0, 1, 0, 0, 1, 0, 1, 0, 0, 0, 0, 0, 1, 1, 1, 1, 1, 0, 1, 0, 0, 0],\n",
       "      dtype=int64)"
      ]
     },
     "execution_count": 201,
     "metadata": {},
     "output_type": "execute_result"
    }
   ],
   "source": [
    "test= min_max_scaler.fit_transform(XX)\n",
    "predict=logistic_model.predict(test)\n",
    "predict"
   ]
  },
  {
   "cell_type": "code",
   "execution_count": 202,
   "metadata": {},
   "outputs": [
    {
     "name": "stderr",
     "output_type": "stream",
     "text": [
      "c:\\python36\\install\\lib\\site-packages\\ipykernel_launcher.py:1: FutureWarning: Method .as_matrix will be removed in a future version. Use .values instead.\n",
      "  \"\"\"Entry point for launching an IPython kernel.\n"
     ]
    }
   ],
   "source": [
    "result = pd.DataFrame({'PassengerId':data_['PassengerId'].as_matrix(), 'Survived':predict})\n",
    "result.to_csv(\"logistic_regression_predictions.csv\", index=False)"
   ]
  },
  {
   "cell_type": "code",
   "execution_count": 206,
   "metadata": {},
   "outputs": [
    {
     "name": "stdout",
     "output_type": "stream",
     "text": [
      "[0.82222222 0.76666667 0.78651685 0.83146067 0.82022472 0.7752809\n",
      " 0.78651685 0.76404494 0.82022472 0.78409091]\n"
     ]
    }
   ],
   "source": [
    "from sklearn import cross_validation\n",
    "\n",
    " #简单看看打分情况\n",
    "print(cross_validation.cross_val_score(logistic_model, X, Y, cv=10))"
   ]
  },
  {
   "cell_type": "code",
   "execution_count": 210,
   "metadata": {},
   "outputs": [
    {
     "name": "stderr",
     "output_type": "stream",
     "text": [
      "c:\\python36\\install\\lib\\site-packages\\ipykernel_launcher.py:7: FutureWarning: Method .as_matrix will be removed in a future version. Use .values instead.\n",
      "  import sys\n"
     ]
    }
   ],
   "source": [
    "from sklearn.ensemble import BaggingRegressor\n",
    "\n",
    "bagging_clf = BaggingRegressor(logistic_model, n_estimators=20, max_samples=0.8, max_features=1.0, bootstrap=True, bootstrap_features=False, n_jobs=-1)\n",
    "bagging_clf.fit(train_data, train_target)\n",
    "\n",
    "predict = bagging_clf.predict(test)\n",
    "result = pd.DataFrame({'PassengerId':data_['PassengerId'].as_matrix(), 'Survived':predict.astype(np.int32)})\n",
    "#result.info()\n",
    "result.to_csv(\"logistic_regression_bagging_predictions.csv\", index=False)"
   ]
  },
  {
   "cell_type": "code",
   "execution_count": null,
   "metadata": {},
   "outputs": [],
   "source": []
  }
 ],
 "metadata": {
  "kernelspec": {
   "display_name": "Python 3",
   "language": "python",
   "name": "python3"
  },
  "language_info": {
   "codemirror_mode": {
    "name": "ipython",
    "version": 3
   },
   "file_extension": ".py",
   "mimetype": "text/x-python",
   "name": "python",
   "nbconvert_exporter": "python",
   "pygments_lexer": "ipython3",
   "version": "3.6.4"
  }
 },
 "nbformat": 4,
 "nbformat_minor": 2
}
