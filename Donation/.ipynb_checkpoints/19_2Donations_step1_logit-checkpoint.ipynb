{
 "cells": [
  {
   "cell_type": "markdown",
   "metadata": {},
   "source": [
    "创建路径："
   ]
  },
  {
   "cell_type": "code",
   "execution_count": 3,
   "metadata": {},
   "outputs": [],
   "source": [
    "import pandas as pd\n",
    "import numpy as np\n",
    "import matplotlib.pyplot as plt"
   ]
  },
  {
   "cell_type": "markdown",
   "metadata": {},
   "source": [
    "导入数据："
   ]
  },
  {
   "cell_type": "code",
   "execution_count": 43,
   "metadata": {},
   "outputs": [
    {
     "data": {
      "text/html": [
       "<div>\n",
       "<style scoped>\n",
       "    .dataframe tbody tr th:only-of-type {\n",
       "        vertical-align: middle;\n",
       "    }\n",
       "\n",
       "    .dataframe tbody tr th {\n",
       "        vertical-align: top;\n",
       "    }\n",
       "\n",
       "    .dataframe thead th {\n",
       "        text-align: right;\n",
       "    }\n",
       "</style>\n",
       "<table border=\"1\" class=\"dataframe\">\n",
       "  <thead>\n",
       "    <tr style=\"text-align: right;\">\n",
       "      <th></th>\n",
       "      <th>TARGET_B</th>\n",
       "      <th>GiftCnt36</th>\n",
       "      <th>GiftCntAll</th>\n",
       "      <th>GiftCntCard36</th>\n",
       "      <th>GiftCntCardAll</th>\n",
       "      <th>GiftAvgLast</th>\n",
       "      <th>GiftAvg36</th>\n",
       "      <th>GiftAvgAll</th>\n",
       "      <th>GiftAvgCard36</th>\n",
       "      <th>GiftTimeLast</th>\n",
       "      <th>...</th>\n",
       "      <th>PromCntCardAll</th>\n",
       "      <th>StatusCat96NK</th>\n",
       "      <th>StatusCatStarAll</th>\n",
       "      <th>DemCluster</th>\n",
       "      <th>DemAge</th>\n",
       "      <th>DemGender</th>\n",
       "      <th>DemHomeOwner</th>\n",
       "      <th>DemMedHomeValue</th>\n",
       "      <th>DemPctVeterans</th>\n",
       "      <th>DemMedIncome</th>\n",
       "    </tr>\n",
       "  </thead>\n",
       "  <tbody>\n",
       "    <tr>\n",
       "      <th>0</th>\n",
       "      <td>0</td>\n",
       "      <td>2</td>\n",
       "      <td>4</td>\n",
       "      <td>1</td>\n",
       "      <td>3</td>\n",
       "      <td>17.0</td>\n",
       "      <td>13.50</td>\n",
       "      <td>9.25</td>\n",
       "      <td>17.00</td>\n",
       "      <td>21</td>\n",
       "      <td>...</td>\n",
       "      <td>13</td>\n",
       "      <td>A</td>\n",
       "      <td>0</td>\n",
       "      <td>0</td>\n",
       "      <td>NaN</td>\n",
       "      <td>F</td>\n",
       "      <td>U</td>\n",
       "      <td>0</td>\n",
       "      <td>0</td>\n",
       "      <td>0</td>\n",
       "    </tr>\n",
       "    <tr>\n",
       "      <th>1</th>\n",
       "      <td>0</td>\n",
       "      <td>1</td>\n",
       "      <td>8</td>\n",
       "      <td>0</td>\n",
       "      <td>3</td>\n",
       "      <td>20.0</td>\n",
       "      <td>20.00</td>\n",
       "      <td>15.88</td>\n",
       "      <td>NaN</td>\n",
       "      <td>26</td>\n",
       "      <td>...</td>\n",
       "      <td>24</td>\n",
       "      <td>A</td>\n",
       "      <td>0</td>\n",
       "      <td>23</td>\n",
       "      <td>67.0</td>\n",
       "      <td>F</td>\n",
       "      <td>U</td>\n",
       "      <td>186800</td>\n",
       "      <td>85</td>\n",
       "      <td>0</td>\n",
       "    </tr>\n",
       "    <tr>\n",
       "      <th>2</th>\n",
       "      <td>1</td>\n",
       "      <td>6</td>\n",
       "      <td>41</td>\n",
       "      <td>3</td>\n",
       "      <td>20</td>\n",
       "      <td>6.0</td>\n",
       "      <td>5.17</td>\n",
       "      <td>3.73</td>\n",
       "      <td>5.00</td>\n",
       "      <td>18</td>\n",
       "      <td>...</td>\n",
       "      <td>22</td>\n",
       "      <td>S</td>\n",
       "      <td>1</td>\n",
       "      <td>0</td>\n",
       "      <td>NaN</td>\n",
       "      <td>M</td>\n",
       "      <td>U</td>\n",
       "      <td>87600</td>\n",
       "      <td>36</td>\n",
       "      <td>38750</td>\n",
       "    </tr>\n",
       "    <tr>\n",
       "      <th>3</th>\n",
       "      <td>1</td>\n",
       "      <td>3</td>\n",
       "      <td>12</td>\n",
       "      <td>3</td>\n",
       "      <td>8</td>\n",
       "      <td>10.0</td>\n",
       "      <td>8.67</td>\n",
       "      <td>8.50</td>\n",
       "      <td>8.67</td>\n",
       "      <td>9</td>\n",
       "      <td>...</td>\n",
       "      <td>16</td>\n",
       "      <td>E</td>\n",
       "      <td>1</td>\n",
       "      <td>0</td>\n",
       "      <td>NaN</td>\n",
       "      <td>M</td>\n",
       "      <td>U</td>\n",
       "      <td>139200</td>\n",
       "      <td>27</td>\n",
       "      <td>38942</td>\n",
       "    </tr>\n",
       "    <tr>\n",
       "      <th>4</th>\n",
       "      <td>0</td>\n",
       "      <td>1</td>\n",
       "      <td>1</td>\n",
       "      <td>1</td>\n",
       "      <td>1</td>\n",
       "      <td>20.0</td>\n",
       "      <td>20.00</td>\n",
       "      <td>20.00</td>\n",
       "      <td>20.00</td>\n",
       "      <td>21</td>\n",
       "      <td>...</td>\n",
       "      <td>6</td>\n",
       "      <td>F</td>\n",
       "      <td>0</td>\n",
       "      <td>35</td>\n",
       "      <td>53.0</td>\n",
       "      <td>M</td>\n",
       "      <td>U</td>\n",
       "      <td>168100</td>\n",
       "      <td>37</td>\n",
       "      <td>71509</td>\n",
       "    </tr>\n",
       "  </tbody>\n",
       "</table>\n",
       "<p>5 rows × 26 columns</p>\n",
       "</div>"
      ],
      "text/plain": [
       "   TARGET_B  GiftCnt36  GiftCntAll  GiftCntCard36  GiftCntCardAll  \\\n",
       "0         0          2           4              1               3   \n",
       "1         0          1           8              0               3   \n",
       "2         1          6          41              3              20   \n",
       "3         1          3          12              3               8   \n",
       "4         0          1           1              1               1   \n",
       "\n",
       "   GiftAvgLast  GiftAvg36  GiftAvgAll  GiftAvgCard36  GiftTimeLast  \\\n",
       "0         17.0      13.50        9.25          17.00            21   \n",
       "1         20.0      20.00       15.88            NaN            26   \n",
       "2          6.0       5.17        3.73           5.00            18   \n",
       "3         10.0       8.67        8.50           8.67             9   \n",
       "4         20.0      20.00       20.00          20.00            21   \n",
       "\n",
       "       ...       PromCntCardAll  StatusCat96NK  StatusCatStarAll  DemCluster  \\\n",
       "0      ...                   13              A                 0           0   \n",
       "1      ...                   24              A                 0          23   \n",
       "2      ...                   22              S                 1           0   \n",
       "3      ...                   16              E                 1           0   \n",
       "4      ...                    6              F                 0          35   \n",
       "\n",
       "   DemAge  DemGender  DemHomeOwner DemMedHomeValue  DemPctVeterans  \\\n",
       "0     NaN          F             U               0               0   \n",
       "1    67.0          F             U          186800              85   \n",
       "2     NaN          M             U           87600              36   \n",
       "3     NaN          M             U          139200              27   \n",
       "4    53.0          M             U          168100              37   \n",
       "\n",
       "   DemMedIncome  \n",
       "0             0  \n",
       "1             0  \n",
       "2         38750  \n",
       "3         38942  \n",
       "4         71509  \n",
       "\n",
       "[5 rows x 26 columns]"
      ]
     },
     "execution_count": 43,
     "metadata": {},
     "output_type": "execute_result"
    }
   ],
   "source": [
    "model_data=pd.read_csv(\"donations2.csv\").drop([\"ID\",\"TARGET_D\"],1)\n",
    "model_data.head()"
   ]
  },
  {
   "cell_type": "markdown",
   "metadata": {},
   "source": [
    "设置自变量及因变量："
   ]
  },
  {
   "cell_type": "code",
   "execution_count": 10,
   "metadata": {
    "scrolled": true
   },
   "outputs": [
    {
     "data": {
      "text/plain": [
       "0       0\n",
       "1       0\n",
       "2       1\n",
       "3       1\n",
       "4       0\n",
       "5       1\n",
       "6       0\n",
       "7       0\n",
       "8       1\n",
       "9       0\n",
       "10      1\n",
       "11      1\n",
       "12      0\n",
       "13      0\n",
       "14      1\n",
       "15      0\n",
       "16      0\n",
       "17      0\n",
       "18      0\n",
       "19      1\n",
       "20      1\n",
       "21      0\n",
       "22      0\n",
       "23      1\n",
       "24      0\n",
       "25      0\n",
       "26      0\n",
       "27      1\n",
       "28      1\n",
       "29      1\n",
       "       ..\n",
       "9656    0\n",
       "9657    1\n",
       "9658    1\n",
       "9659    0\n",
       "9660    0\n",
       "9661    1\n",
       "9662    1\n",
       "9663    0\n",
       "9664    1\n",
       "9665    1\n",
       "9666    1\n",
       "9667    1\n",
       "9668    0\n",
       "9669    0\n",
       "9670    0\n",
       "9671    0\n",
       "9672    0\n",
       "9673    1\n",
       "9674    0\n",
       "9675    0\n",
       "9676    0\n",
       "9677    1\n",
       "9678    1\n",
       "9679    0\n",
       "9680    0\n",
       "9681    1\n",
       "9682    0\n",
       "9683    1\n",
       "9684    0\n",
       "9685    0\n",
       "Name: TARGET_B, Length: 9686, dtype: int64"
      ]
     },
     "execution_count": 10,
     "metadata": {},
     "output_type": "execute_result"
    }
   ],
   "source": [
    "model_data.dtypes\n",
    "y = 'TARGET_B'\n",
    "var_c = [\"GiftCnt36\",\"GiftCntAll\",\"GiftCntCard36\",\n",
    "         \"GiftCntCardAll\",\"GiftTimeLast\",\"GiftTimeFirst\",\n",
    "         \"PromCnt12\",\"PromCnt36\",\"PromCntAll\",\n",
    "         \"PromCntCard12\",\"PromCntCard36\",\"PromCntCardAll\",\n",
    "         \"StatusCatStarAll\",\"DemAge\",\"DemMedHomeValue\",\n",
    "         \"DemPctVeterans\",\"DemMedIncome\",\"GiftAvgLast\",\n",
    "         \"GiftAvg36\",\"GiftAvgAll\",\"GiftAvgCard36\"]\n",
    "var_d = ['StatusCat96NK', 'DemHomeOwner', 'DemGender', 'DemCluster']\n",
    "X = model_data[var_c + var_d].copy()\n",
    "Y = model_data[y].copy()\n",
    "Y"
   ]
  },
  {
   "cell_type": "markdown",
   "metadata": {},
   "source": [
    "根据IV值筛选变量 - 分类变量："
   ]
  },
  {
   "cell_type": "code",
   "execution_count": 18,
   "metadata": {},
   "outputs": [
    {
     "data": {
      "text/plain": [
       "StatusCat96NK    0.048839\n",
       "DemCluster       0.037621\n",
       "DemHomeOwner     0.000263\n",
       "DemGender        0.000030\n",
       "dtype: float64"
      ]
     },
     "execution_count": 18,
     "metadata": {},
     "output_type": "execute_result"
    }
   ],
   "source": [
    "from woe import WoE\n",
    "iv_d = {}\n",
    "for i in var_d:\n",
    "    iv_d[i] = WoE(v_type='d').fit(X[i].copy(), Y.copy()).iv\n",
    "pd.Series(iv_d).sort_values(ascending = False)"
   ]
  },
  {
   "cell_type": "code",
   "execution_count": 27,
   "metadata": {},
   "outputs": [
    {
     "data": {
      "text/plain": [
       "GiftAvgCard36       0.079019\n",
       "GiftCnt36           0.068140\n",
       "GiftAvg36           0.063299\n",
       "GiftAvgAll          0.061579\n",
       "GiftCntAll          0.060781\n",
       "GiftAvgLast         0.059258\n",
       "GiftCntCardAll      0.044608\n",
       "GiftTimeLast        0.022771\n",
       "PromCntCard36       0.022314\n",
       "PromCntAll          0.022096\n",
       "GiftTimeFirst       0.021442\n",
       "PromCntCardAll      0.020985\n",
       "PromCntCard12       0.017793\n",
       "PromCnt12           0.014559\n",
       "DemMedHomeValue     0.014360\n",
       "PromCnt36           0.013919\n",
       "DemAge              0.008953\n",
       "DemPctVeterans      0.004013\n",
       "DemMedIncome        0.003064\n",
       "StatusCatStarAll    0.000000\n",
       "GiftCntCard36       0.000000\n",
       "dtype: float64"
      ]
     },
     "execution_count": 27,
     "metadata": {},
     "output_type": "execute_result"
    }
   ],
   "source": [
    "var_d_s = ['StatusCat96NK', 'DemCluster']\n",
    "\n",
    "iv_c = {}\n",
    "for i in var_c:\n",
    "    iv_c[i] = WoE(v_type='c',t_type='b',qnt_num=3).fit(X[i],Y).iv \n",
    "sort_iv_c = pd.Series(iv_c).sort_values(ascending=False)\n",
    "sort_iv_c\n"
   ]
  },
  {
   "cell_type": "markdown",
   "metadata": {},
   "source": [
    "根据IV值筛选变量-连续变量："
   ]
  },
  {
   "cell_type": "markdown",
   "metadata": {},
   "source": []
  },
  {
   "cell_type": "code",
   "execution_count": 26,
   "metadata": {},
   "outputs": [
    {
     "data": {
      "text/plain": [
       "['GiftAvgCard36',\n",
       " 'GiftCnt36',\n",
       " 'GiftAvg36',\n",
       " 'GiftAvgAll',\n",
       " 'GiftCntAll',\n",
       " 'GiftAvgLast',\n",
       " 'GiftCntCardAll',\n",
       " 'GiftTimeLast',\n",
       " 'PromCntCard36',\n",
       " 'PromCntAll',\n",
       " 'GiftTimeFirst',\n",
       " 'PromCntCardAll']"
      ]
     },
     "execution_count": 26,
     "metadata": {},
     "output_type": "execute_result"
    }
   ],
   "source": [
    "var_c_s = list(sort_iv_c[sort_iv_c > 0.02].index)\n",
    "var_c_s"
   ]
  },
  {
   "cell_type": "code",
   "execution_count": 8,
   "metadata": {},
   "outputs": [
    {
     "data": {
      "text/html": [
       "<div>\n",
       "<style scoped>\n",
       "    .dataframe tbody tr th:only-of-type {\n",
       "        vertical-align: middle;\n",
       "    }\n",
       "\n",
       "    .dataframe tbody tr th {\n",
       "        vertical-align: top;\n",
       "    }\n",
       "\n",
       "    .dataframe thead th {\n",
       "        text-align: right;\n",
       "    }\n",
       "</style>\n",
       "<table border=\"1\" class=\"dataframe\">\n",
       "  <thead>\n",
       "    <tr style=\"text-align: right;\">\n",
       "      <th></th>\n",
       "      <th>count</th>\n",
       "      <th>mean</th>\n",
       "      <th>std</th>\n",
       "      <th>min</th>\n",
       "      <th>25%</th>\n",
       "      <th>50%</th>\n",
       "      <th>75%</th>\n",
       "      <th>max</th>\n",
       "    </tr>\n",
       "  </thead>\n",
       "  <tbody>\n",
       "    <tr>\n",
       "      <th>GiftAvgCard36</th>\n",
       "      <td>7906.0</td>\n",
       "      <td>14.224431</td>\n",
       "      <td>10.022710</td>\n",
       "      <td>1.33</td>\n",
       "      <td>8.67</td>\n",
       "      <td>12.50</td>\n",
       "      <td>18.0</td>\n",
       "      <td>260.0</td>\n",
       "    </tr>\n",
       "    <tr>\n",
       "      <th>GiftCnt36</th>\n",
       "      <td>9686.0</td>\n",
       "      <td>3.205451</td>\n",
       "      <td>2.133421</td>\n",
       "      <td>0.00</td>\n",
       "      <td>2.00</td>\n",
       "      <td>3.00</td>\n",
       "      <td>4.0</td>\n",
       "      <td>16.0</td>\n",
       "    </tr>\n",
       "    <tr>\n",
       "      <th>GiftAvg36</th>\n",
       "      <td>9686.0</td>\n",
       "      <td>14.876203</td>\n",
       "      <td>10.057007</td>\n",
       "      <td>0.00</td>\n",
       "      <td>9.60</td>\n",
       "      <td>13.50</td>\n",
       "      <td>18.5</td>\n",
       "      <td>260.0</td>\n",
       "    </tr>\n",
       "    <tr>\n",
       "      <th>GiftAvgAll</th>\n",
       "      <td>9686.0</td>\n",
       "      <td>12.489325</td>\n",
       "      <td>9.209297</td>\n",
       "      <td>1.50</td>\n",
       "      <td>7.75</td>\n",
       "      <td>10.71</td>\n",
       "      <td>15.0</td>\n",
       "      <td>450.0</td>\n",
       "    </tr>\n",
       "    <tr>\n",
       "      <th>GiftCntAll</th>\n",
       "      <td>9686.0</td>\n",
       "      <td>10.507640</td>\n",
       "      <td>8.993401</td>\n",
       "      <td>1.00</td>\n",
       "      <td>4.00</td>\n",
       "      <td>8.00</td>\n",
       "      <td>15.0</td>\n",
       "      <td>91.0</td>\n",
       "    </tr>\n",
       "    <tr>\n",
       "      <th>GiftAvgLast</th>\n",
       "      <td>9686.0</td>\n",
       "      <td>16.017739</td>\n",
       "      <td>12.041805</td>\n",
       "      <td>0.00</td>\n",
       "      <td>10.00</td>\n",
       "      <td>15.00</td>\n",
       "      <td>20.0</td>\n",
       "      <td>450.0</td>\n",
       "    </tr>\n",
       "    <tr>\n",
       "      <th>GiftCntCardAll</th>\n",
       "      <td>9686.0</td>\n",
       "      <td>5.582490</td>\n",
       "      <td>4.736894</td>\n",
       "      <td>0.00</td>\n",
       "      <td>2.00</td>\n",
       "      <td>4.00</td>\n",
       "      <td>8.0</td>\n",
       "      <td>41.0</td>\n",
       "    </tr>\n",
       "    <tr>\n",
       "      <th>GiftTimeLast</th>\n",
       "      <td>9686.0</td>\n",
       "      <td>18.002168</td>\n",
       "      <td>4.073549</td>\n",
       "      <td>4.00</td>\n",
       "      <td>16.00</td>\n",
       "      <td>18.00</td>\n",
       "      <td>20.0</td>\n",
       "      <td>27.0</td>\n",
       "    </tr>\n",
       "    <tr>\n",
       "      <th>PromCntCard36</th>\n",
       "      <td>9686.0</td>\n",
       "      <td>11.954677</td>\n",
       "      <td>4.571568</td>\n",
       "      <td>2.00</td>\n",
       "      <td>7.00</td>\n",
       "      <td>13.00</td>\n",
       "      <td>16.0</td>\n",
       "      <td>28.0</td>\n",
       "    </tr>\n",
       "    <tr>\n",
       "      <th>PromCntAll</th>\n",
       "      <td>9686.0</td>\n",
       "      <td>48.483481</td>\n",
       "      <td>23.061483</td>\n",
       "      <td>5.00</td>\n",
       "      <td>29.00</td>\n",
       "      <td>48.00</td>\n",
       "      <td>65.0</td>\n",
       "      <td>174.0</td>\n",
       "    </tr>\n",
       "    <tr>\n",
       "      <th>GiftTimeFirst</th>\n",
       "      <td>9686.0</td>\n",
       "      <td>71.100351</td>\n",
       "      <td>37.691984</td>\n",
       "      <td>15.00</td>\n",
       "      <td>36.00</td>\n",
       "      <td>68.00</td>\n",
       "      <td>105.0</td>\n",
       "      <td>260.0</td>\n",
       "    </tr>\n",
       "    <tr>\n",
       "      <th>PromCntCardAll</th>\n",
       "      <td>9686.0</td>\n",
       "      <td>19.007124</td>\n",
       "      <td>8.562193</td>\n",
       "      <td>2.00</td>\n",
       "      <td>12.00</td>\n",
       "      <td>19.00</td>\n",
       "      <td>26.0</td>\n",
       "      <td>56.0</td>\n",
       "    </tr>\n",
       "  </tbody>\n",
       "</table>\n",
       "</div>"
      ],
      "text/plain": [
       "                 count       mean        std    min    25%    50%    75%  \\\n",
       "GiftAvgCard36   7906.0  14.224431  10.022710   1.33   8.67  12.50   18.0   \n",
       "GiftCnt36       9686.0   3.205451   2.133421   0.00   2.00   3.00    4.0   \n",
       "GiftAvg36       9686.0  14.876203  10.057007   0.00   9.60  13.50   18.5   \n",
       "GiftAvgAll      9686.0  12.489325   9.209297   1.50   7.75  10.71   15.0   \n",
       "GiftCntAll      9686.0  10.507640   8.993401   1.00   4.00   8.00   15.0   \n",
       "GiftAvgLast     9686.0  16.017739  12.041805   0.00  10.00  15.00   20.0   \n",
       "GiftCntCardAll  9686.0   5.582490   4.736894   0.00   2.00   4.00    8.0   \n",
       "GiftTimeLast    9686.0  18.002168   4.073549   4.00  16.00  18.00   20.0   \n",
       "PromCntCard36   9686.0  11.954677   4.571568   2.00   7.00  13.00   16.0   \n",
       "PromCntAll      9686.0  48.483481  23.061483   5.00  29.00  48.00   65.0   \n",
       "GiftTimeFirst   9686.0  71.100351  37.691984  15.00  36.00  68.00  105.0   \n",
       "PromCntCardAll  9686.0  19.007124   8.562193   2.00  12.00  19.00   26.0   \n",
       "\n",
       "                  max  \n",
       "GiftAvgCard36   260.0  \n",
       "GiftCnt36        16.0  \n",
       "GiftAvg36       260.0  \n",
       "GiftAvgAll      450.0  \n",
       "GiftCntAll       91.0  \n",
       "GiftAvgLast     450.0  \n",
       "GiftCntCardAll   41.0  \n",
       "GiftTimeLast     27.0  \n",
       "PromCntCard36    28.0  \n",
       "PromCntAll      174.0  \n",
       "GiftTimeFirst   260.0  \n",
       "PromCntCardAll   56.0  "
      ]
     },
     "execution_count": 8,
     "metadata": {},
     "output_type": "execute_result"
    }
   ],
   "source": [
    "X = model_data[var_c_s + var_d_s].copy()\n",
    "Y = model_data[y].copy()\n",
    "X[var_c_s].describe().T"
   ]
  },
  {
   "cell_type": "markdown",
   "metadata": {},
   "source": [
    "针对每个变量的E（探索）阶段:"
   ]
  },
  {
   "cell_type": "code",
   "execution_count": 9,
   "metadata": {},
   "outputs": [
    {
     "data": {
      "text/plain": [
       "GiftAvgCard36     0.267953\n",
       "GiftCnt36         0.500000\n",
       "GiftAvg36         0.168539\n",
       "GiftAvgAll        0.591724\n",
       "GiftCntAll        0.636364\n",
       "GiftAvgLast       0.000000\n",
       "GiftCntCardAll    0.500000\n",
       "GiftTimeLast      0.000000\n",
       "PromCntCard36     0.444444\n",
       "PromCntAll        0.972222\n",
       "GiftTimeFirst     0.391304\n",
       "PromCntCardAll    0.285714\n",
       "dtype: float64"
      ]
     },
     "execution_count": 9,
     "metadata": {},
     "output_type": "execute_result"
    }
   ],
   "source": [
    "abs((X[var_c_s].mode().iloc[0,] - X[var_c_s].median()) /\n",
    "    (X[var_c_s].quantile(0.75) - X[var_c_s].quantile(0.25)))"
   ]
  },
  {
   "cell_type": "code",
   "execution_count": 28,
   "metadata": {},
   "outputs": [
    {
     "data": {
      "text/plain": [
       "(array([3.860e+02, 8.910e+02, 1.310e+03, 1.076e+03, 1.063e+03, 1.055e+03,\n",
       "        1.395e+03, 1.140e+03, 7.950e+02, 2.490e+02, 9.800e+01, 8.500e+01,\n",
       "        5.300e+01, 4.200e+01, 2.900e+01, 1.200e+01, 5.000e+00, 1.000e+00,\n",
       "        0.000e+00, 1.000e+00]),\n",
       " array([  5.  ,  13.45,  21.9 ,  30.35,  38.8 ,  47.25,  55.7 ,  64.15,\n",
       "         72.6 ,  81.05,  89.5 ,  97.95, 106.4 , 114.85, 123.3 , 131.75,\n",
       "        140.2 , 148.65, 157.1 , 165.55, 174.  ]),\n",
       " <a list of 20 Patch objects>)"
      ]
     },
     "execution_count": 28,
     "metadata": {},
     "output_type": "execute_result"
    },
    {
     "data": {
      "image/png": "[encoded data removed]",
      "text/plain": [
       "<Figure size 432x288 with 1 Axes>"
      ]
     },
     "metadata": {},
     "output_type": "display_data"
    }
   ],
   "source": [
    "plt.hist(X[\"PromCntAll\"], bins=20)"
   ]
  },
  {
   "cell_type": "code",
   "execution_count": 11,
   "metadata": {},
   "outputs": [
    {
     "data": {
      "text/plain": [
       "54"
      ]
     },
     "execution_count": 11,
     "metadata": {},
     "output_type": "execute_result"
    }
   ],
   "source": [
    "len(X[\"DemCluster\"].value_counts())"
   ]
  },
  {
   "cell_type": "markdown",
   "metadata": {},
   "source": [
    "针对有问题的变量进行修改的M（修改）阶段:"
   ]
  },
  {
   "cell_type": "markdown",
   "metadata": {},
   "source": [
    "连续变量的修改："
   ]
  },
  {
   "cell_type": "code",
   "execution_count": 12,
   "metadata": {},
   "outputs": [
    {
     "data": {
      "text/plain": [
       "GiftAvgCard36     0.18377\n",
       "GiftCnt36         0.00000\n",
       "GiftAvg36         0.00000\n",
       "GiftAvgAll        0.00000\n",
       "GiftCntAll        0.00000\n",
       "GiftAvgLast       0.00000\n",
       "GiftCntCardAll    0.00000\n",
       "GiftTimeLast      0.00000\n",
       "PromCntCard36     0.00000\n",
       "PromCntAll        0.00000\n",
       "GiftTimeFirst     0.00000\n",
       "PromCntCardAll    0.00000\n",
       "DemCluster        0.00000\n",
       "Name: count, dtype: float64"
      ]
     },
     "execution_count": 12,
     "metadata": {},
     "output_type": "execute_result"
    }
   ],
   "source": [
    "1 - (X.describe().T[\"count\"]) / len(X)"
   ]
  },
  {
   "cell_type": "code",
   "execution_count": 13,
   "metadata": {
    "collapsed": true
   },
   "outputs": [],
   "source": [
    "fill_GiftAvgCard36 = X.GiftAvgCard36.median()\n",
    "X.GiftAvgCard36.fillna(value=fill_GiftAvgCard36, inplace=True)"
   ]
  },
  {
   "cell_type": "markdown",
   "metadata": {},
   "source": [
    "分类变量的修改："
   ]
  },
  {
   "cell_type": "code",
   "execution_count": 1,
   "metadata": {},
   "outputs": [
    {
     "ename": "NameError",
     "evalue": "name 'model_data' is not defined",
     "output_type": "error",
     "traceback": [
      "\u001b[1;31m---------------------------------------------------------------------------\u001b[0m",
      "\u001b[1;31mNameError\u001b[0m                                 Traceback (most recent call last)",
      "\u001b[1;32m<ipython-input-1-61bd15bfd716>\u001b[0m in \u001b[0;36m<module>\u001b[1;34m()\u001b[0m\n\u001b[1;32m----> 1\u001b[1;33m \u001b[0mDemCluster_grp\u001b[0m \u001b[1;33m=\u001b[0m \u001b[0mmodel_data\u001b[0m\u001b[1;33m[\u001b[0m\u001b[1;33m[\u001b[0m\u001b[1;34m'DemCluster'\u001b[0m\u001b[1;33m,\u001b[0m\u001b[1;34m'TARGET_B'\u001b[0m\u001b[1;33m]\u001b[0m\u001b[1;33m]\u001b[0m\u001b[1;33m.\u001b[0m\u001b[0mgroupby\u001b[0m\u001b[1;33m(\u001b[0m\u001b[1;34m'DemCluster'\u001b[0m\u001b[1;33m,\u001b[0m\u001b[0mas_index\u001b[0m \u001b[1;33m=\u001b[0m \u001b[1;32mFalse\u001b[0m\u001b[1;33m)\u001b[0m\u001b[1;33m\u001b[0m\u001b[0m\n\u001b[0m\u001b[0;32m      2\u001b[0m \u001b[0mDemC_C\u001b[0m \u001b[1;33m=\u001b[0m \u001b[0mDemCluster_grp\u001b[0m\u001b[1;33m[\u001b[0m\u001b[1;34m'TARGET_B'\u001b[0m\u001b[1;33m]\u001b[0m\u001b[1;33m.\u001b[0m\u001b[0magg\u001b[0m\u001b[1;33m(\u001b[0m\u001b[1;33m{\u001b[0m\u001b[1;34m'mean'\u001b[0m \u001b[1;33m:\u001b[0m \u001b[1;34m'mean'\u001b[0m\u001b[1;33m,\u001b[0m\u001b[1;34m'count'\u001b[0m\u001b[1;33m:\u001b[0m\u001b[1;34m'count'\u001b[0m\u001b[1;33m}\u001b[0m\u001b[1;33m)\u001b[0m\u001b[1;33m.\u001b[0m\u001b[0msort_values\u001b[0m\u001b[1;33m(\u001b[0m\u001b[1;34m\"mean\"\u001b[0m\u001b[1;33m)\u001b[0m\u001b[1;33m\u001b[0m\u001b[0m\n\u001b[0;32m      3\u001b[0m \u001b[0mDemC_C\u001b[0m\u001b[1;33m[\u001b[0m\u001b[1;34m\"count_cumsum\"\u001b[0m\u001b[1;33m]\u001b[0m \u001b[1;33m=\u001b[0m \u001b[0mDemC_C\u001b[0m\u001b[1;33m[\u001b[0m\u001b[1;34m\"count\"\u001b[0m\u001b[1;33m]\u001b[0m\u001b[1;33m.\u001b[0m\u001b[0mcumsum\u001b[0m\u001b[1;33m(\u001b[0m\u001b[1;33m)\u001b[0m\u001b[1;33m\u001b[0m\u001b[0m\n\u001b[0;32m      4\u001b[0m \u001b[0mDemC_C\u001b[0m\u001b[1;33m[\u001b[0m\u001b[1;34m\"new_DemCluster\"\u001b[0m\u001b[1;33m]\u001b[0m \u001b[1;33m=\u001b[0m \u001b[0mDemC_C\u001b[0m\u001b[1;33m[\u001b[0m\u001b[1;34m\"count_cumsum\"\u001b[0m\u001b[1;33m]\u001b[0m\u001b[1;33m.\u001b[0m\u001b[0mapply\u001b[0m\u001b[1;33m(\u001b[0m\u001b[1;32mlambda\u001b[0m \u001b[0mx\u001b[0m\u001b[1;33m:\u001b[0m \u001b[0mx\u001b[0m\u001b[1;33m//\u001b[0m\u001b[1;33m(\u001b[0m\u001b[0mlen\u001b[0m\u001b[1;33m(\u001b[0m\u001b[0mmodel_data\u001b[0m\u001b[1;33m)\u001b[0m\u001b[1;33m/\u001b[0m\u001b[1;36m10\u001b[0m\u001b[1;33m)\u001b[0m\u001b[1;33m)\u001b[0m\u001b[1;33m\u001b[0m\u001b[0m\n\u001b[0;32m      5\u001b[0m \u001b[0mDemC_C\u001b[0m\u001b[1;33m[\u001b[0m\u001b[1;34m\"new_DemCluster\"\u001b[0m\u001b[1;33m]\u001b[0m \u001b[1;33m=\u001b[0m \u001b[0mDemC_C\u001b[0m\u001b[1;33m[\u001b[0m\u001b[1;34m\"new_DemCluster\"\u001b[0m\u001b[1;33m]\u001b[0m\u001b[1;33m.\u001b[0m\u001b[0mastype\u001b[0m\u001b[1;33m(\u001b[0m\u001b[0mint\u001b[0m\u001b[1;33m)\u001b[0m\u001b[1;33m\u001b[0m\u001b[0m\n",
      "\u001b[1;31mNameError\u001b[0m: name 'model_data' is not defined"
     ]
    }
   ],
   "source": [
    "DemCluster_grp = model_data[['DemCluster','TARGET_B']].groupby('DemCluster',as_index = False)\n",
    "DemC_C = DemCluster_grp['TARGET_B'].agg({'mean' : 'mean','count':'count'}).sort_values(\"mean\")\n",
    "DemC_C[\"count_cumsum\"] = DemC_C[\"count\"].cumsum()\n",
    "DemC_C[\"new_DemCluster\"] = DemC_C[\"count_cumsum\"].apply(lambda x: x//(len(model_data)/10))\n",
    "DemC_C[\"new_DemCluster\"] = DemC_C[\"new_DemCluster\"].astype(int)\n",
    "X.head()"
   ]
  },
  {
   "cell_type": "code",
   "execution_count": 61,
   "metadata": {},
   "outputs": [],
   "source": [
    "X_rep = X.copy()\n",
    "for i in var_d_s:X_rep[i+\"_woe\"] = WoE(v_type='d').fit_transform(X_rep[i],Y)\n",
    "StatusCat96NK_woe = X_rep[[\"StatusCat96NK\",\"StatusCat96NK_woe\"]].drop_duplicates().set_index(\"StatusCat96NK\").to_dict()\n",
    "DemCluster_woe = X_rep[[\"DemCluster\",\"DemCluster_woe\"]].drop_duplicates().set_index(\"DemCluster\").to_dict()\n",
    "del X_rep[\"StatusCat96NK\"]\n",
    "del X_rep[\"DemCluster\"]\n",
    "X_rep.rename(columns={\"StatusCat96NK_woe\":\"StatusCat96NK\",\"DemCluster_woe\":\"DemCluster\"},inplace=True)"
   ]
  },
  {
   "cell_type": "markdown",
   "metadata": {},
   "source": [
    "通过随机森林对变量的重要性进行筛选:"
   ]
  },
  {
   "cell_type": "code",
   "execution_count": 62,
   "metadata": {},
   "outputs": [
    {
     "ename": "ValueError",
     "evalue": "could not convert string to float: 'F'",
     "output_type": "error",
     "traceback": [
      "\u001b[1;31m---------------------------------------------------------------------------\u001b[0m",
      "\u001b[1;31mValueError\u001b[0m                                Traceback (most recent call last)",
      "\u001b[1;32m<ipython-input-62-669f81b82eb7>\u001b[0m in \u001b[0;36m<module>\u001b[1;34m()\u001b[0m\n\u001b[0;32m      1\u001b[0m \u001b[1;32mimport\u001b[0m \u001b[0msklearn\u001b[0m\u001b[1;33m.\u001b[0m\u001b[0mensemble\u001b[0m \u001b[1;32mas\u001b[0m \u001b[0mensemble\u001b[0m\u001b[1;33m\u001b[0m\u001b[0m\n\u001b[0;32m      2\u001b[0m \u001b[0mrfc\u001b[0m \u001b[1;33m=\u001b[0m \u001b[0mensemble\u001b[0m\u001b[1;33m.\u001b[0m\u001b[0mRandomForestClassifier\u001b[0m\u001b[1;33m(\u001b[0m\u001b[0mcriterion\u001b[0m\u001b[1;33m=\u001b[0m\u001b[1;34m'entropy'\u001b[0m\u001b[1;33m,\u001b[0m \u001b[0mn_estimators\u001b[0m\u001b[1;33m=\u001b[0m\u001b[1;36m3\u001b[0m\u001b[1;33m,\u001b[0m \u001b[0mmax_features\u001b[0m\u001b[1;33m=\u001b[0m\u001b[1;36m0.5\u001b[0m\u001b[1;33m,\u001b[0m \u001b[0mmin_samples_split\u001b[0m\u001b[1;33m=\u001b[0m\u001b[1;36m5\u001b[0m\u001b[1;33m)\u001b[0m\u001b[1;33m\u001b[0m\u001b[0m\n\u001b[1;32m----> 3\u001b[1;33m \u001b[0mrfc_model\u001b[0m \u001b[1;33m=\u001b[0m \u001b[0mrfc\u001b[0m\u001b[1;33m.\u001b[0m\u001b[0mfit\u001b[0m\u001b[1;33m(\u001b[0m\u001b[0mX_rep\u001b[0m\u001b[1;33m,\u001b[0m \u001b[0mY\u001b[0m\u001b[1;33m)\u001b[0m\u001b[1;33m\u001b[0m\u001b[0m\n\u001b[0m\u001b[0;32m      4\u001b[0m \u001b[0mrfc_model\u001b[0m\u001b[1;33m.\u001b[0m\u001b[0mfeature_importances_\u001b[0m\u001b[1;33m\u001b[0m\u001b[0m\n\u001b[0;32m      5\u001b[0m \u001b[0mrfc_fi\u001b[0m \u001b[1;33m=\u001b[0m \u001b[0mpd\u001b[0m\u001b[1;33m.\u001b[0m\u001b[0mDataFrame\u001b[0m\u001b[1;33m(\u001b[0m\u001b[1;33m)\u001b[0m\u001b[1;33m\u001b[0m\u001b[0m\n",
      "\u001b[1;32mc:\\python36\\install\\lib\\site-packages\\sklearn\\ensemble\\forest.py\u001b[0m in \u001b[0;36mfit\u001b[1;34m(self, X, y, sample_weight)\u001b[0m\n\u001b[0;32m    245\u001b[0m         \"\"\"\n\u001b[0;32m    246\u001b[0m         \u001b[1;31m# Validate or convert input data\u001b[0m\u001b[1;33m\u001b[0m\u001b[1;33m\u001b[0m\u001b[0m\n\u001b[1;32m--> 247\u001b[1;33m         \u001b[0mX\u001b[0m \u001b[1;33m=\u001b[0m \u001b[0mcheck_array\u001b[0m\u001b[1;33m(\u001b[0m\u001b[0mX\u001b[0m\u001b[1;33m,\u001b[0m \u001b[0maccept_sparse\u001b[0m\u001b[1;33m=\u001b[0m\u001b[1;34m\"csc\"\u001b[0m\u001b[1;33m,\u001b[0m \u001b[0mdtype\u001b[0m\u001b[1;33m=\u001b[0m\u001b[0mDTYPE\u001b[0m\u001b[1;33m)\u001b[0m\u001b[1;33m\u001b[0m\u001b[0m\n\u001b[0m\u001b[0;32m    248\u001b[0m         \u001b[0my\u001b[0m \u001b[1;33m=\u001b[0m \u001b[0mcheck_array\u001b[0m\u001b[1;33m(\u001b[0m\u001b[0my\u001b[0m\u001b[1;33m,\u001b[0m \u001b[0maccept_sparse\u001b[0m\u001b[1;33m=\u001b[0m\u001b[1;34m'csc'\u001b[0m\u001b[1;33m,\u001b[0m \u001b[0mensure_2d\u001b[0m\u001b[1;33m=\u001b[0m\u001b[1;32mFalse\u001b[0m\u001b[1;33m,\u001b[0m \u001b[0mdtype\u001b[0m\u001b[1;33m=\u001b[0m\u001b[1;32mNone\u001b[0m\u001b[1;33m)\u001b[0m\u001b[1;33m\u001b[0m\u001b[0m\n\u001b[0;32m    249\u001b[0m         \u001b[1;32mif\u001b[0m \u001b[0msample_weight\u001b[0m \u001b[1;32mis\u001b[0m \u001b[1;32mnot\u001b[0m \u001b[1;32mNone\u001b[0m\u001b[1;33m:\u001b[0m\u001b[1;33m\u001b[0m\u001b[0m\n",
      "\u001b[1;32mc:\\python36\\install\\lib\\site-packages\\sklearn\\utils\\validation.py\u001b[0m in \u001b[0;36mcheck_array\u001b[1;34m(array, accept_sparse, dtype, order, copy, force_all_finite, ensure_2d, allow_nd, ensure_min_samples, ensure_min_features, warn_on_dtype, estimator)\u001b[0m\n\u001b[0;32m    431\u001b[0m                                       force_all_finite)\n\u001b[0;32m    432\u001b[0m     \u001b[1;32melse\u001b[0m\u001b[1;33m:\u001b[0m\u001b[1;33m\u001b[0m\u001b[0m\n\u001b[1;32m--> 433\u001b[1;33m         \u001b[0marray\u001b[0m \u001b[1;33m=\u001b[0m \u001b[0mnp\u001b[0m\u001b[1;33m.\u001b[0m\u001b[0marray\u001b[0m\u001b[1;33m(\u001b[0m\u001b[0marray\u001b[0m\u001b[1;33m,\u001b[0m \u001b[0mdtype\u001b[0m\u001b[1;33m=\u001b[0m\u001b[0mdtype\u001b[0m\u001b[1;33m,\u001b[0m \u001b[0morder\u001b[0m\u001b[1;33m=\u001b[0m\u001b[0morder\u001b[0m\u001b[1;33m,\u001b[0m \u001b[0mcopy\u001b[0m\u001b[1;33m=\u001b[0m\u001b[0mcopy\u001b[0m\u001b[1;33m)\u001b[0m\u001b[1;33m\u001b[0m\u001b[0m\n\u001b[0m\u001b[0;32m    434\u001b[0m \u001b[1;33m\u001b[0m\u001b[0m\n\u001b[0;32m    435\u001b[0m         \u001b[1;32mif\u001b[0m \u001b[0mensure_2d\u001b[0m\u001b[1;33m:\u001b[0m\u001b[1;33m\u001b[0m\u001b[0m\n",
      "\u001b[1;31mValueError\u001b[0m: could not convert string to float: 'F'"
     ]
    }
   ],
   "source": [
    "import sklearn.ensemble as ensemble\n",
    "rfc = ensemble.RandomForestClassifier(criterion='entropy', n_estimators=3, max_features=0.5, min_samples_split=5)\n",
    "rfc_model = rfc.fit(X_rep, Y)\n",
    "rfc_model.feature_importances_\n",
    "rfc_fi = pd.DataFrame()\n",
    "rfc_fi[\"features\"] = list(X.columns)\n",
    "rfc_fi[\"importance\"] = list(rfc_model.feature_importances_)\n",
    "rfc_fi=rfc_fi.set_index(\"features\",drop=True)\n",
    "var_sort = rfc_fi.sort_values(by=\"importance\",ascending=False)\n",
    "var_sort.plot(kind=\"bar\")"
   ]
  },
  {
   "cell_type": "code",
   "execution_count": 63,
   "metadata": {},
   "outputs": [
    {
     "ename": "NameError",
     "evalue": "name 'var_sort' is not defined",
     "output_type": "error",
     "traceback": [
      "\u001b[1;31m---------------------------------------------------------------------------\u001b[0m",
      "\u001b[1;31mNameError\u001b[0m                                 Traceback (most recent call last)",
      "\u001b[1;32m<ipython-input-63-8b7d94e477dc>\u001b[0m in \u001b[0;36m<module>\u001b[1;34m()\u001b[0m\n\u001b[1;32m----> 1\u001b[1;33m \u001b[0mvar_x\u001b[0m \u001b[1;33m=\u001b[0m \u001b[0mlist\u001b[0m\u001b[1;33m(\u001b[0m\u001b[0mvar_sort\u001b[0m\u001b[1;33m.\u001b[0m\u001b[0mimportance\u001b[0m\u001b[1;33m[\u001b[0m\u001b[0mvar_sort\u001b[0m\u001b[1;33m.\u001b[0m\u001b[0mimportance\u001b[0m \u001b[1;33m>\u001b[0m \u001b[1;36m0.02\u001b[0m\u001b[1;33m]\u001b[0m\u001b[1;33m.\u001b[0m\u001b[0mindex\u001b[0m\u001b[1;33m)\u001b[0m\u001b[1;33m\u001b[0m\u001b[0m\n\u001b[0m\u001b[0;32m      2\u001b[0m \u001b[0mvar_x\u001b[0m\u001b[1;33m\u001b[0m\u001b[0m\n",
      "\u001b[1;31mNameError\u001b[0m: name 'var_sort' is not defined"
     ]
    }
   ],
   "source": [
    "var_x = list(var_sort.importance[var_sort.importance > 0.02].index)\n",
    "var_x"
   ]
  },
  {
   "cell_type": "markdown",
   "metadata": {},
   "source": [
    "解释变量分布转换："
   ]
  },
  {
   "cell_type": "code",
   "execution_count": 53,
   "metadata": {},
   "outputs": [
    {
     "ename": "NameError",
     "evalue": "name 'var_x' is not defined",
     "output_type": "error",
     "traceback": [
      "\u001b[1;31m---------------------------------------------------------------------------\u001b[0m",
      "\u001b[1;31mNameError\u001b[0m                                 Traceback (most recent call last)",
      "\u001b[1;32m<ipython-input-53-48c424b5d37c>\u001b[0m in \u001b[0;36m<module>\u001b[1;34m()\u001b[0m\n\u001b[0;32m      1\u001b[0m \u001b[0mskew_var_x\u001b[0m \u001b[1;33m=\u001b[0m \u001b[1;33m{\u001b[0m\u001b[1;33m}\u001b[0m\u001b[1;33m\u001b[0m\u001b[0m\n\u001b[1;32m----> 2\u001b[1;33m \u001b[1;32mfor\u001b[0m \u001b[0mi\u001b[0m \u001b[1;32min\u001b[0m \u001b[0mvar_x\u001b[0m\u001b[1;33m:\u001b[0m\u001b[1;33m\u001b[0m\u001b[0m\n\u001b[0m\u001b[0;32m      3\u001b[0m     \u001b[0mskew_var_x\u001b[0m\u001b[1;33m[\u001b[0m\u001b[0mi\u001b[0m\u001b[1;33m]\u001b[0m \u001b[1;33m=\u001b[0m \u001b[0mabs\u001b[0m\u001b[1;33m(\u001b[0m\u001b[0mX_rep\u001b[0m\u001b[1;33m[\u001b[0m\u001b[0mi\u001b[0m\u001b[1;33m]\u001b[0m\u001b[1;33m.\u001b[0m\u001b[0mskew\u001b[0m\u001b[1;33m(\u001b[0m\u001b[1;33m)\u001b[0m\u001b[1;33m)\u001b[0m\u001b[1;33m\u001b[0m\u001b[0m\n\u001b[0;32m      4\u001b[0m \u001b[0mskew\u001b[0m \u001b[1;33m=\u001b[0m \u001b[0mpd\u001b[0m\u001b[1;33m.\u001b[0m\u001b[0mSeries\u001b[0m\u001b[1;33m(\u001b[0m\u001b[0mskew_var_x\u001b[0m\u001b[1;33m)\u001b[0m\u001b[1;33m.\u001b[0m\u001b[0msort_values\u001b[0m\u001b[1;33m(\u001b[0m\u001b[0mascending\u001b[0m\u001b[1;33m=\u001b[0m\u001b[1;32mFalse\u001b[0m\u001b[1;33m)\u001b[0m\u001b[1;33m\u001b[0m\u001b[0m\n\u001b[0;32m      5\u001b[0m \u001b[0mskew\u001b[0m\u001b[1;33m\u001b[0m\u001b[0m\n",
      "\u001b[1;31mNameError\u001b[0m: name 'var_x' is not defined"
     ]
    }
   ],
   "source": [
    "skew_var_x = {}\n",
    "for i in var_x:\n",
    "    skew_var_x[i] = abs(X_rep[i].skew())  \n",
    "skew = pd.Series(skew_var_x).sort_values(ascending=False)\n",
    "skew"
   ]
  },
  {
   "cell_type": "code",
   "execution_count": 54,
   "metadata": {},
   "outputs": [
    {
     "ename": "NameError",
     "evalue": "name 'skew' is not defined",
     "output_type": "error",
     "traceback": [
      "\u001b[1;31m---------------------------------------------------------------------------\u001b[0m",
      "\u001b[1;31mNameError\u001b[0m                                 Traceback (most recent call last)",
      "\u001b[1;32m<ipython-input-54-5b77f64c219e>\u001b[0m in \u001b[0;36m<module>\u001b[1;34m()\u001b[0m\n\u001b[1;32m----> 1\u001b[1;33m \u001b[0mvar_x_ln\u001b[0m \u001b[1;33m=\u001b[0m \u001b[0mskew\u001b[0m\u001b[1;33m.\u001b[0m\u001b[0mindex\u001b[0m\u001b[1;33m[\u001b[0m\u001b[0mskew\u001b[0m \u001b[1;33m>\u001b[0m \u001b[1;36m1\u001b[0m\u001b[1;33m]\u001b[0m\u001b[1;33m\u001b[0m\u001b[0m\n\u001b[0m\u001b[0;32m      2\u001b[0m \u001b[0mvar_x_ln\u001b[0m\u001b[1;33m\u001b[0m\u001b[0m\n",
      "\u001b[1;31mNameError\u001b[0m: name 'skew' is not defined"
     ]
    }
   ],
   "source": [
    "var_x_ln = skew.index[skew > 1]\n",
    "var_x_ln"
   ]
  },
  {
   "cell_type": "code",
   "execution_count": 55,
   "metadata": {},
   "outputs": [
    {
     "ename": "NameError",
     "evalue": "name 'var_x_ln' is not defined",
     "output_type": "error",
     "traceback": [
      "\u001b[1;31m---------------------------------------------------------------------------\u001b[0m",
      "\u001b[1;31mNameError\u001b[0m                                 Traceback (most recent call last)",
      "\u001b[1;32m<ipython-input-55-4aec35c7811f>\u001b[0m in \u001b[0;36m<module>\u001b[1;34m()\u001b[0m\n\u001b[1;32m----> 1\u001b[1;33m \u001b[1;32mfor\u001b[0m \u001b[0mi\u001b[0m \u001b[1;32min\u001b[0m \u001b[0mvar_x_ln\u001b[0m\u001b[1;33m:\u001b[0m\u001b[1;33m\u001b[0m\u001b[0m\n\u001b[0m\u001b[0;32m      2\u001b[0m     \u001b[1;32mif\u001b[0m \u001b[0mmin\u001b[0m\u001b[1;33m(\u001b[0m\u001b[0mX_rep\u001b[0m\u001b[1;33m[\u001b[0m\u001b[0mi\u001b[0m\u001b[1;33m]\u001b[0m\u001b[1;33m)\u001b[0m \u001b[1;33m<=\u001b[0m \u001b[1;36m0\u001b[0m\u001b[1;33m:\u001b[0m\u001b[1;33m\u001b[0m\u001b[0m\n\u001b[0;32m      3\u001b[0m         \u001b[0mX_rep\u001b[0m\u001b[1;33m[\u001b[0m\u001b[0mi\u001b[0m\u001b[1;33m]\u001b[0m \u001b[1;33m=\u001b[0m\u001b[0mnp\u001b[0m\u001b[1;33m.\u001b[0m\u001b[0mlog\u001b[0m\u001b[1;33m(\u001b[0m\u001b[0mX_rep\u001b[0m\u001b[1;33m[\u001b[0m\u001b[0mi\u001b[0m\u001b[1;33m]\u001b[0m \u001b[1;33m+\u001b[0m \u001b[0mabs\u001b[0m\u001b[1;33m(\u001b[0m\u001b[0mmin\u001b[0m\u001b[1;33m(\u001b[0m\u001b[0mX_rep\u001b[0m\u001b[1;33m[\u001b[0m\u001b[0mi\u001b[0m\u001b[1;33m]\u001b[0m\u001b[1;33m)\u001b[0m\u001b[1;33m)\u001b[0m \u001b[1;33m+\u001b[0m \u001b[1;36m0.01\u001b[0m\u001b[1;33m)\u001b[0m\u001b[1;33m\u001b[0m\u001b[0m\n\u001b[0;32m      4\u001b[0m     \u001b[1;32melse\u001b[0m\u001b[1;33m:\u001b[0m\u001b[1;33m\u001b[0m\u001b[0m\n\u001b[0;32m      5\u001b[0m         \u001b[0mX_rep\u001b[0m\u001b[1;33m[\u001b[0m\u001b[0mi\u001b[0m\u001b[1;33m]\u001b[0m \u001b[1;33m=\u001b[0m\u001b[0mnp\u001b[0m\u001b[1;33m.\u001b[0m\u001b[0mlog\u001b[0m\u001b[1;33m(\u001b[0m\u001b[0mX_rep\u001b[0m\u001b[1;33m[\u001b[0m\u001b[0mi\u001b[0m\u001b[1;33m]\u001b[0m\u001b[1;33m)\u001b[0m\u001b[1;33m\u001b[0m\u001b[0m\n",
      "\u001b[1;31mNameError\u001b[0m: name 'var_x_ln' is not defined"
     ]
    }
   ],
   "source": [
    "for i in var_x_ln:\n",
    "    if min(X_rep[i]) <= 0:\n",
    "        X_rep[i] =np.log(X_rep[i] + abs(min(X_rep[i])) + 0.01)\n",
    "    else:\n",
    "        X_rep[i] =np.log(X_rep[i])"
   ]
  },
  {
   "cell_type": "markdown",
   "metadata": {},
   "source": [
    "变量压缩："
   ]
  },
  {
   "cell_type": "markdown",
   "metadata": {},
   "source": [
    "比较耗时,请耐心等待"
   ]
  },
  {
   "cell_type": "code",
   "execution_count": 21,
   "metadata": {},
   "outputs": [
    {
     "name": "stdout",
     "output_type": "stream",
     "text": [
      "[Int64Index([11], dtype='int64'), Int64Index([3], dtype='int64'), Int64Index([1], dtype='int64'), Int64Index([13], dtype='int64'), Int64Index([7], dtype='int64'), Int64Index([8], dtype='int64')]\n"
     ]
    },
    {
     "data": {
      "text/html": [
       "<div>\n",
       "<style scoped>\n",
       "    .dataframe tbody tr th:only-of-type {\n",
       "        vertical-align: middle;\n",
       "    }\n",
       "\n",
       "    .dataframe tbody tr th {\n",
       "        vertical-align: top;\n",
       "    }\n",
       "\n",
       "    .dataframe thead th {\n",
       "        text-align: right;\n",
       "    }\n",
       "</style>\n",
       "<table border=\"1\" class=\"dataframe\">\n",
       "  <thead>\n",
       "    <tr style=\"text-align: right;\">\n",
       "      <th></th>\n",
       "      <th>PromCntCardAll</th>\n",
       "      <th>GiftAvgAll</th>\n",
       "      <th>GiftCnt36</th>\n",
       "      <th>DemCluster</th>\n",
       "      <th>GiftTimeLast</th>\n",
       "      <th>PromCntCard36</th>\n",
       "    </tr>\n",
       "  </thead>\n",
       "  <tbody>\n",
       "    <tr>\n",
       "      <th>0</th>\n",
       "      <td>13</td>\n",
       "      <td>2.224624</td>\n",
       "      <td>0.698135</td>\n",
       "      <td>0.336472</td>\n",
       "      <td>21</td>\n",
       "      <td>8</td>\n",
       "    </tr>\n",
       "    <tr>\n",
       "      <th>1</th>\n",
       "      <td>24</td>\n",
       "      <td>2.765060</td>\n",
       "      <td>0.009950</td>\n",
       "      <td>0.168335</td>\n",
       "      <td>26</td>\n",
       "      <td>5</td>\n",
       "    </tr>\n",
       "    <tr>\n",
       "      <th>2</th>\n",
       "      <td>22</td>\n",
       "      <td>1.316408</td>\n",
       "      <td>1.793425</td>\n",
       "      <td>0.336472</td>\n",
       "      <td>18</td>\n",
       "      <td>11</td>\n",
       "    </tr>\n",
       "    <tr>\n",
       "      <th>3</th>\n",
       "      <td>16</td>\n",
       "      <td>2.140066</td>\n",
       "      <td>1.101940</td>\n",
       "      <td>0.336472</td>\n",
       "      <td>9</td>\n",
       "      <td>6</td>\n",
       "    </tr>\n",
       "    <tr>\n",
       "      <th>4</th>\n",
       "      <td>6</td>\n",
       "      <td>2.995732</td>\n",
       "      <td>0.009950</td>\n",
       "      <td>0.104261</td>\n",
       "      <td>21</td>\n",
       "      <td>7</td>\n",
       "    </tr>\n",
       "  </tbody>\n",
       "</table>\n",
       "</div>"
      ],
      "text/plain": [
       "   PromCntCardAll  GiftAvgAll  GiftCnt36  DemCluster  GiftTimeLast  \\\n",
       "0              13    2.224624   0.698135    0.336472            21   \n",
       "1              24    2.765060   0.009950    0.168335            26   \n",
       "2              22    1.316408   1.793425    0.336472            18   \n",
       "3              16    2.140066   1.101940    0.336472             9   \n",
       "4               6    2.995732   0.009950    0.104261            21   \n",
       "\n",
       "   PromCntCard36  \n",
       "0              8  \n",
       "1              5  \n",
       "2             11  \n",
       "3              6  \n",
       "4              7  "
      ]
     },
     "execution_count": 21,
     "metadata": {},
     "output_type": "execute_result"
    }
   ],
   "source": [
    "from VarSelec import Var_Select,Var_Select_auto\n",
    "X_rep_reduc = Var_Select_auto(X_rep)\n",
    "X_rep_reduc.head()"
   ]
  },
  {
   "cell_type": "code",
   "execution_count": 22,
   "metadata": {},
   "outputs": [
    {
     "data": {
      "text/plain": [
       "['PromCntCardAll',\n",
       " 'GiftAvgAll',\n",
       " 'GiftCnt36',\n",
       " 'DemCluster',\n",
       " 'GiftTimeLast',\n",
       " 'PromCntCard36']"
      ]
     },
     "execution_count": 22,
     "metadata": {},
     "output_type": "execute_result"
    }
   ],
   "source": [
    "list(X_rep_reduc.columns)"
   ]
  },
  {
   "cell_type": "markdown",
   "metadata": {},
   "source": [
    "建立逻辑回归模型M（建模）阶段："
   ]
  },
  {
   "cell_type": "code",
   "execution_count": 23,
   "metadata": {},
   "outputs": [
    {
     "data": {
      "text/plain": [
       "array([[0.0754717 , 0.41186546, 0.62549207, 0.19352249, 0.82608696,\n",
       "        0.19230769],\n",
       "       [0.56603774, 0.29686366, 0.81236781, 0.66917022, 0.7826087 ,\n",
       "        0.5       ],\n",
       "       [0.26415094, 0.27614939, 0.71876242, 0.765031  , 0.65217391,\n",
       "        0.15384615],\n",
       "       ...,\n",
       "       [0.50943396, 0.24889435, 0.77349058, 0.76743259, 0.56521739,\n",
       "        0.42307692],\n",
       "       [0.41509434, 0.23302698, 0.77349058, 0.40645693, 0.52173913,\n",
       "        0.42307692],\n",
       "       [0.16981132, 0.55425089, 0.71876242, 0.70903312, 0.82608696,\n",
       "        0.42307692]])"
      ]
     },
     "execution_count": 23,
     "metadata": {},
     "output_type": "execute_result"
    }
   ],
   "source": [
    "import sklearn.model_selection as model_selection\n",
    "ml_data = model_selection.train_test_split(X_rep_reduc, Y, test_size=0.3, random_state=0)\n",
    "train_data, test_data, train_target, test_target = ml_data\n",
    "from sklearn import preprocessing\n",
    "min_max_scaler = preprocessing.MinMaxScaler()\n",
    "train_data = min_max_scaler.fit_transform(train_data)\n",
    "test_data = min_max_scaler.fit_transform(test_data)\n",
    "train_data"
   ]
  },
  {
   "cell_type": "code",
   "execution_count": 24,
   "metadata": {
    "collapsed": true
   },
   "outputs": [],
   "source": [
    "import sklearn.linear_model as linear_model\n",
    "logistic_model = linear_model.LogisticRegression(class_weight = None,\n",
    "                                                 dual = False,\n",
    "                                                 fit_intercept = True,\n",
    "                                                 intercept_scaling = 1,\n",
    "                                                 penalty = 'l1',\n",
    "                                                 random_state = None,\n",
    "                                                 tol = 0.001)"
   ]
  },
  {
   "cell_type": "code",
   "execution_count": 25,
   "metadata": {},
   "outputs": [
    {
     "data": {
      "text/plain": [
       "GridSearchCV(cv=5, error_score='raise',\n",
       "       estimator=LogisticRegression(C=1.0, class_weight=None, dual=False, fit_intercept=True,\n",
       "          intercept_scaling=1, max_iter=100, multi_class='ovr', n_jobs=1,\n",
       "          penalty='l1', random_state=None, solver='liblinear', tol=0.001,\n",
       "          verbose=0, warm_start=False),\n",
       "       fit_params=None, iid=True, n_jobs=1,\n",
       "       param_grid={'C': array([0.001  , 0.00144, 0.00207, 0.00298, 0.00428, 0.00616, 0.00886,\n",
       "       0.01274, 0.01833, 0.02637, 0.03793, 0.05456, 0.07848, 0.11288,\n",
       "       0.16238, 0.23357, 0.33598, 0.48329, 0.69519, 1.     ])},\n",
       "       pre_dispatch='2*n_jobs', refit=True, return_train_score='warn',\n",
       "       scoring='roc_auc', verbose=0)"
      ]
     },
     "execution_count": 25,
     "metadata": {},
     "output_type": "execute_result"
    }
   ],
   "source": [
    "from sklearn.model_selection import ParameterGrid, GridSearchCV\n",
    "C = np.logspace(-3,0,20,base=10)\n",
    "param_grid = {'C': C}\n",
    "clf_cv = GridSearchCV(estimator=logistic_model, \n",
    "                      param_grid=param_grid, \n",
    "                      cv=5, \n",
    "                      scoring='roc_auc')\n",
    "clf_cv.fit(train_data, train_target)"
   ]
  },
  {
   "cell_type": "code",
   "execution_count": 26,
   "metadata": {},
   "outputs": [
    {
     "data": {
      "text/plain": [
       "LogisticRegression(C=1.0, class_weight=None, dual=False, fit_intercept=True,\n",
       "          intercept_scaling=1, max_iter=100, multi_class='ovr', n_jobs=1,\n",
       "          penalty='l1', random_state=None, solver='liblinear', tol=0.001,\n",
       "          verbose=0, warm_start=False)"
      ]
     },
     "execution_count": 26,
     "metadata": {},
     "output_type": "execute_result"
    }
   ],
   "source": [
    "logistic_model = linear_model.LogisticRegression(C=clf_cv.best_params_[\"C\"],\n",
    "                                                 class_weight=None,\n",
    "                                                 dual=False,\n",
    "                                                 fit_intercept=True,\n",
    "                                                 intercept_scaling=1,\n",
    "                                                 penalty='l1',\n",
    "                                                 random_state=None,\n",
    "                                                 tol=0.001)\n",
    "logistic_model.fit(train_data, train_target)"
   ]
  },
  {
   "cell_type": "code",
   "execution_count": 27,
   "metadata": {},
   "outputs": [
    {
     "data": {
      "text/plain": [
       "array([[ 0.        , -1.79319913,  1.03104838,  0.84655617, -0.82315124,\n",
       "         0.23179576]])"
      ]
     },
     "execution_count": 27,
     "metadata": {},
     "output_type": "execute_result"
    }
   ],
   "source": [
    "logistic_model.coef_"
   ]
  },
  {
   "cell_type": "code",
   "execution_count": 28,
   "metadata": {},
   "outputs": [
    {
     "name": "stderr",
     "output_type": "stream",
     "text": [
      "C:\\Users\\Ben\\Anaconda3\\lib\\site-packages\\statsmodels\\compat\\pandas.py:56: FutureWarning: The pandas.core.datetools module is deprecated and will be removed in a future version. Please use the pandas.tseries module instead.\n",
      "  from pandas.core import datetools\n"
     ]
    },
    {
     "data": {
      "text/html": [
       "<table class=\"simpletable\">\n",
       "<caption>Generalized Linear Model Regression Results</caption>\n",
       "<tr>\n",
       "  <th>Dep. Variable:</th>      <td>TARGET_B</td>     <th>  No. Observations:  </th>  <td>  6780</td> \n",
       "</tr>\n",
       "<tr>\n",
       "  <th>Model:</th>                 <td>GLM</td>       <th>  Df Residuals:      </th>  <td>  6773</td> \n",
       "</tr>\n",
       "<tr>\n",
       "  <th>Model Family:</th>       <td>Binomial</td>     <th>  Df Model:          </th>  <td>     6</td> \n",
       "</tr>\n",
       "<tr>\n",
       "  <th>Link Function:</th>        <td>logit</td>      <th>  Scale:             </th>    <td>1.0</td>  \n",
       "</tr>\n",
       "<tr>\n",
       "  <th>Method:</th>               <td>IRLS</td>       <th>  Log-Likelihood:    </th> <td> -4576.0</td>\n",
       "</tr>\n",
       "<tr>\n",
       "  <th>Date:</th>           <td>Thu, 19 Jul 2018</td> <th>  Deviance:          </th> <td>  9152.0</td>\n",
       "</tr>\n",
       "<tr>\n",
       "  <th>Time:</th>               <td>00:15:18</td>     <th>  Pearson chi2:      </th> <td>6.79e+03</td>\n",
       "</tr>\n",
       "<tr>\n",
       "  <th>No. Iterations:</th>         <td>4</td>        <th>                     </th>     <td> </td>   \n",
       "</tr>\n",
       "</table>\n",
       "<table class=\"simpletable\">\n",
       "<tr>\n",
       "         <td></td>           <th>coef</th>     <th>std err</th>      <th>z</th>      <th>P>|z|</th>  <th>[0.025</th>    <th>0.975]</th>  \n",
       "</tr>\n",
       "<tr>\n",
       "  <th>Intercept</th>      <td>    1.1937</td> <td>    0.205</td> <td>    5.831</td> <td> 0.000</td> <td>    0.792</td> <td>    1.595</td>\n",
       "</tr>\n",
       "<tr>\n",
       "  <th>PromCntCardAll</th> <td>    0.0002</td> <td>    0.003</td> <td>    0.065</td> <td> 0.948</td> <td>   -0.006</td> <td>    0.007</td>\n",
       "</tr>\n",
       "<tr>\n",
       "  <th>GiftAvgAll</th>     <td>   -0.3384</td> <td>    0.056</td> <td>   -6.032</td> <td> 0.000</td> <td>   -0.448</td> <td>   -0.228</td>\n",
       "</tr>\n",
       "<tr>\n",
       "  <th>GiftCnt36</th>      <td>    0.1533</td> <td>    0.041</td> <td>    3.698</td> <td> 0.000</td> <td>    0.072</td> <td>    0.234</td>\n",
       "</tr>\n",
       "<tr>\n",
       "  <th>DemCluster</th>     <td>    1.0006</td> <td>    0.129</td> <td>    7.781</td> <td> 0.000</td> <td>    0.749</td> <td>    1.253</td>\n",
       "</tr>\n",
       "<tr>\n",
       "  <th>GiftTimeLast</th>   <td>   -0.0356</td> <td>    0.006</td> <td>   -5.579</td> <td> 0.000</td> <td>   -0.048</td> <td>   -0.023</td>\n",
       "</tr>\n",
       "<tr>\n",
       "  <th>PromCntCard36</th>  <td>    0.0083</td> <td>    0.008</td> <td>    1.101</td> <td> 0.271</td> <td>   -0.007</td> <td>    0.023</td>\n",
       "</tr>\n",
       "</table>"
      ],
      "text/plain": [
       "<class 'statsmodels.iolib.summary.Summary'>\n",
       "\"\"\"\n",
       "                 Generalized Linear Model Regression Results                  \n",
       "==============================================================================\n",
       "Dep. Variable:               TARGET_B   No. Observations:                 6780\n",
       "Model:                            GLM   Df Residuals:                     6773\n",
       "Model Family:                Binomial   Df Model:                            6\n",
       "Link Function:                  logit   Scale:                             1.0\n",
       "Method:                          IRLS   Log-Likelihood:                -4576.0\n",
       "Date:                Thu, 19 Jul 2018   Deviance:                       9152.0\n",
       "Time:                        00:15:18   Pearson chi2:                 6.79e+03\n",
       "No. Iterations:                     4                                         \n",
       "==================================================================================\n",
       "                     coef    std err          z      P>|z|      [0.025      0.975]\n",
       "----------------------------------------------------------------------------------\n",
       "Intercept          1.1937      0.205      5.831      0.000       0.792       1.595\n",
       "PromCntCardAll     0.0002      0.003      0.065      0.948      -0.006       0.007\n",
       "GiftAvgAll        -0.3384      0.056     -6.032      0.000      -0.448      -0.228\n",
       "GiftCnt36          0.1533      0.041      3.698      0.000       0.072       0.234\n",
       "DemCluster         1.0006      0.129      7.781      0.000       0.749       1.253\n",
       "GiftTimeLast      -0.0356      0.006     -5.579      0.000      -0.048      -0.023\n",
       "PromCntCard36      0.0083      0.008      1.101      0.271      -0.007       0.023\n",
       "==================================================================================\n",
       "\"\"\""
      ]
     },
     "execution_count": 28,
     "metadata": {},
     "output_type": "execute_result"
    }
   ],
   "source": [
    "import statsmodels.api as sm\n",
    "import statsmodels.formula.api as smf\n",
    "model=X_rep_reduc.join(train_target)\n",
    "formula = \"TARGET_B ~ \" + \"+\".join(X_rep_reduc)\n",
    "lg_m = smf.glm(formula=formula, data=model, family=sm.families.Binomial(sm.families.links.logit)).fit()\n",
    "lg_m.summary()"
   ]
  },
  {
   "cell_type": "markdown",
   "metadata": {},
   "source": [
    "ROC曲线："
   ]
  },
  {
   "cell_type": "code",
   "execution_count": 29,
   "metadata": {},
   "outputs": [
    {
     "name": "stdout",
     "output_type": "stream",
     "text": [
      "AUC = 0.6163\n"
     ]
    }
   ],
   "source": [
    "test_est = logistic_model.predict(test_data)\n",
    "train_est = logistic_model.predict(train_data)\n",
    "test_est_p = logistic_model.predict_proba(test_data)[:,1]\n",
    "train_est_p = logistic_model.predict_proba(train_data)[:,1]\n",
    "import sklearn.metrics as metrics\n",
    "fpr_test, tpr_test, th_test = metrics.roc_curve(test_target, test_est_p)\n",
    "fpr_train, tpr_train, th_train = metrics.roc_curve(train_target, train_est_p)\n",
    "plt.figure(figsize=[6,6])\n",
    "plt.plot(fpr_test, tpr_test)\n",
    "plt.plot(fpr_train, tpr_train)\n",
    "plt.title('ROC curve')\n",
    "print('AUC = %6.4f' %metrics.auc(fpr_test, tpr_test))"
   ]
  },
  {
   "cell_type": "code",
   "execution_count": null,
   "metadata": {
    "collapsed": true
   },
   "outputs": [],
   "source": []
  }
 ],
 "metadata": {
  "kernelspec": {
   "display_name": "Python 3",
   "language": "python",
   "name": "python3"
  },
  "language_info": {
   "codemirror_mode": {
    "name": "ipython",
    "version": 3
   },
   "file_extension": ".py",
   "mimetype": "text/x-python",
   "name": "python",
   "nbconvert_exporter": "python",
   "pygments_lexer": "ipython3",
   "version": "3.6.4"
  }
 },
 "nbformat": 4,
 "nbformat_minor": 2
}
