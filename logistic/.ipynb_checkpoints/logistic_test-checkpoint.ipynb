{
 "cells": [
  {
   "cell_type": "code",
   "execution_count": 15,
   "metadata": {},
   "outputs": [
    {
     "name": "stdout",
     "output_type": "stream",
     "text": [
      "chisq=1.1500\n",
      "p-value=0.2835\n",
      "dof=1\n",
      "expected_freq=[[3068.35688185  726.64311815]\n",
      " [ 250.64311815   59.35688185]]\n",
      "训练集样本量: 2874 \n",
      "测试集样本量: 1231\n",
      "bad_ind~age_oldest_tr\n"
     ]
    }
   ],
   "source": [
    "import os\n",
    "import numpy as np\n",
    "from scipy import stats\n",
    "import pandas as pd\n",
    "import statsmodels.api as sm\n",
    "import statsmodels.formula.api as smf\n",
    "import matplotlib.pyplot as plt\n",
    "\n",
    "f=open('C:/计算机软件/Python_book/Python_book/8Logistic/accepts.csv')\n",
    "accepts=pd.read_csv(f,skipinitialspace=True)\n",
    "accepts=accepts.dropna(axis=0,how='any')\n",
    "cross_table=pd.crosstab(accepts.bankruptcy_ind,accepts.bad_ind,margins=True)\n",
    "\n",
    "\n",
    "#转化为列联表\n",
    "def percConvert(ser):\n",
    "    return ser/float(ser[-1])\n",
    "\n",
    "cross_table.apply(percConvert,axis=1)\n",
    "\n",
    "#使用卡方检验\n",
    "print('''chisq=%6.4f\n",
    "p-value=%6.4f\n",
    "dof=%i\n",
    "expected_freq=%s'''%stats.chi2_contingency(cross_table.iloc[:2,:2]))\n",
    "\n",
    "#在Python中实现Logistic回归\n",
    "train=accepts.sample(frac=0.7,random_state=1234).copy()\n",
    "test=accepts[~accepts.index.isin(train.index)].copy()\n",
    "print('训练集样本量: %i \\n测试集样本量: %i'%(len(train),len(test)))\n",
    "\n",
    "#1.单变量逻辑回归\n",
    "lg=smf.glm('bad_ind~fico_score',data=train,family=sm.families.Binomial(sm.families.links.logit)).fit()\n",
    "lg.summary()\n",
    "\n",
    "#2.多变量逻辑回归\n",
    "formula='''bad_ind~fico_score+bankruptcy_ind+tot_derog+age_oldest_tr\n",
    "+rev_util+ltv+veh_mileage\n",
    "'''\n",
    "lg_m=smf.glm(formula=formula,data=train,family=sm.families.Binomial(sm.families.links.logit)).fit()\n",
    "lg_m.summary().tables[1]\n",
    "\n",
    "\n",
    "#向前法\n",
    "def forward_select(data,response):\n",
    "    remaining=set(data.columns)\n",
    "    remaining.remove(response)\n",
    "    selected=[]\n",
    "    current_score,best_new_score=float('inf'),float('inf')\n",
    "    #while remaining:\n",
    "    for candidate in remaining:\n",
    "        formula=\"{}~{}\".format(response,'+'.join(selected+[candidate]))\n",
    "    print(formula)\n",
    "        \n",
    "candidates=[\n",
    "    'bad_ind','fico_score','bankruptcy_ind','tot_derog','age_oldest_tr'\n",
    ",'rev_util','ltv','veh_mileage'\n",
    "]\n",
    "data_for_select=train[candidates]\n",
    "forward_select(data=data_for_select,response='bad_ind')\n"
   ]
  },
  {
   "cell_type": "code",
   "execution_count": 1,
   "metadata": {},
   "outputs": [
    {
     "ename": "NameError",
     "evalue": "name 'accepts' is not defined",
     "output_type": "error",
     "traceback": [
      "\u001b[1;31m---------------------------------------------------------------------------\u001b[0m",
      "\u001b[1;31mNameError\u001b[0m                                 Traceback (most recent call last)",
      "\u001b[1;32m<ipython-input-1-caeda845d57f>\u001b[0m in \u001b[0;36m<module>\u001b[1;34m()\u001b[0m\n\u001b[0;32m      1\u001b[0m \u001b[1;31m#在Python中实现Logistic回归\u001b[0m\u001b[1;33m\u001b[0m\u001b[1;33m\u001b[0m\u001b[0m\n\u001b[1;32m----> 2\u001b[1;33m \u001b[0mtrain\u001b[0m\u001b[1;33m=\u001b[0m\u001b[0maccepts\u001b[0m\u001b[1;33m.\u001b[0m\u001b[0msample\u001b[0m\u001b[1;33m(\u001b[0m\u001b[0mfrac\u001b[0m\u001b[1;33m=\u001b[0m\u001b[1;36m0.7\u001b[0m\u001b[1;33m,\u001b[0m\u001b[0mrandom_state\u001b[0m\u001b[1;33m=\u001b[0m\u001b[1;36m1234\u001b[0m\u001b[1;33m)\u001b[0m\u001b[1;33m.\u001b[0m\u001b[0mcopy\u001b[0m\u001b[1;33m(\u001b[0m\u001b[1;33m)\u001b[0m\u001b[1;33m\u001b[0m\u001b[0m\n\u001b[0m\u001b[0;32m      3\u001b[0m \u001b[0mtest\u001b[0m\u001b[1;33m=\u001b[0m\u001b[0maccepts\u001b[0m\u001b[1;33m[\u001b[0m\u001b[0maccepts\u001b[0m\u001b[1;33m.\u001b[0m\u001b[0mindex\u001b[0m\u001b[1;33m.\u001b[0m\u001b[0misin\u001b[0m\u001b[1;33m(\u001b[0m\u001b[0mtrain\u001b[0m\u001b[1;33m.\u001b[0m\u001b[0mindex\u001b[0m\u001b[1;33m)\u001b[0m\u001b[1;33m]\u001b[0m\u001b[1;33m.\u001b[0m\u001b[0mcopy\u001b[0m\u001b[1;33m(\u001b[0m\u001b[1;33m)\u001b[0m\u001b[1;33m\u001b[0m\u001b[0m\n\u001b[0;32m      4\u001b[0m \u001b[0mprint\u001b[0m\u001b[1;33m(\u001b[0m\u001b[1;34m'训练集样本量: %i \\n 测试集样本量: %i'\u001b[0m\u001b[1;33m%\u001b[0m\u001b[1;33m(\u001b[0m\u001b[0mlen\u001b[0m\u001b[1;33m(\u001b[0m\u001b[0mtrain\u001b[0m\u001b[1;33m)\u001b[0m\u001b[1;33m,\u001b[0m\u001b[0mlen\u001b[0m\u001b[1;33m(\u001b[0m\u001b[0mtest\u001b[0m\u001b[1;33m)\u001b[0m\u001b[1;33m)\u001b[0m\u001b[1;33m)\u001b[0m\u001b[1;33m\u001b[0m\u001b[0m\n",
      "\u001b[1;31mNameError\u001b[0m: name 'accepts' is not defined"
     ]
    }
   ],
   "source": [
    "\n"
   ]
  },
  {
   "cell_type": "code",
   "execution_count": null,
   "metadata": {},
   "outputs": [],
   "source": []
  }
 ],
 "metadata": {
  "kernelspec": {
   "display_name": "Python 3",
   "language": "python",
   "name": "python3"
  },
  "language_info": {
   "codemirror_mode": {
    "name": "ipython",
    "version": 3
   },
   "file_extension": ".py",
   "mimetype": "text/x-python",
   "name": "python",
   "nbconvert_exporter": "python",
   "pygments_lexer": "ipython3",
   "version": "3.6.4"
  }
 },
 "nbformat": 4,
 "nbformat_minor": 2
}
