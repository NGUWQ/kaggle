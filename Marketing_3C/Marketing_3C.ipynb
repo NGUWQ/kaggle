{
 "cells": [
  {
   "cell_type": "markdown",
   "metadata": {},
   "source": [
    "# 个人3C产品精准营销案例"
   ]
  },
  {
   "cell_type": "markdown",
   "metadata": {},
   "source": [
    "## 背景:一家著名3C产品制造商于2013年年底在推出一款新产品，经过一段时间运营发现其销售状况不理想。因此该公司希望通过已有销售数据来挖掘该产品的受众群，进而进行精准营销。该数据的销售数据包括大约40000个样本和16个各种属性变量，其中包括是否购买过该产品，购买者的个人信息如性别、年龄、教育背景等，具体变量如表所示，其中ID是客户唯一识别信息(ID)\n",
    "\n",
    "|变量名|变量说明|\n",
    "|:--:|:--:|\n",
    "|ID\t|数据库中每个人的ID|\n",
    "|target_flag|\t是否购买过目标产品|\n",
    "|gender|\t性别|\n",
    "|education\t|教育背景|\n",
    "|home_value|\t所住房屋的价值|\n",
    "|age\t|年龄信息，以类似25-35分组表示|\n",
    "|buy_online\t|有无网购记录|\n",
    "|mosaic_group\t|根据居住区域归纳的描述消费心理的变量|\n",
    "|marital\t|婚姻状态|\n",
    "|poc\t|有无小孩|\n",
    "|occupation\t|职业信息|\n",
    "|mortgage\t|住房贷款信息|\n",
    "|home_owner\t|所住房屋是否自有|\n",
    "|region\t|所处地区信息|\n",
    "|new_car|\t购买新车的可能性（1代表最可能）|\n",
    "|home_income|\t家庭收入信息（A代表最低，L代表最高）|"
   ]
  },
  {
   "cell_type": "markdown",
   "metadata": {},
   "source": [
    "### 读取数据，并对数据进行初步探索"
   ]
  },
  {
   "cell_type": "code",
   "execution_count": 183,
   "metadata": {},
   "outputs": [],
   "source": [
    "%matplotlib inline\n",
    "\n",
    "import pandas as pd\n",
    "import numpy as np\n",
    "import matplotlib.pyplot as plt\n",
    "import warnings\n",
    "\n",
    "warnings.filterwarnings('ignore')\n",
    "pd.set_option('display.max_columns', None)"
   ]
  },
  {
   "cell_type": "code",
   "execution_count": 184,
   "metadata": {},
   "outputs": [
    {
     "name": "stdout",
     "output_type": "stream",
     "text": [
      "(30000, 15)\n",
      "(10000, 15)\n"
     ]
    }
   ],
   "source": [
    "train = pd.read_csv('response_data_train.csv', skipinitialspace=True)\n",
    "test = pd.read_csv('response_data_test.csv', skipinitialspace=True)\n",
    "print(train.shape)\n",
    "print(test.shape)"
   ]
  },
  {
   "cell_type": "code",
   "execution_count": 185,
   "metadata": {},
   "outputs": [
    {
     "data": {
      "text/html": [
       "<div>\n",
       "<style scoped>\n",
       "    .dataframe tbody tr th:only-of-type {\n",
       "        vertical-align: middle;\n",
       "    }\n",
       "\n",
       "    .dataframe tbody tr th {\n",
       "        vertical-align: top;\n",
       "    }\n",
       "\n",
       "    .dataframe thead th {\n",
       "        text-align: right;\n",
       "    }\n",
       "</style>\n",
       "<table border=\"1\" class=\"dataframe\">\n",
       "  <thead>\n",
       "    <tr style=\"text-align: right;\">\n",
       "      <th></th>\n",
       "      <th>target_flag</th>\n",
       "      <th>gender</th>\n",
       "      <th>education</th>\n",
       "      <th>home_value</th>\n",
       "      <th>age</th>\n",
       "      <th>buy_online</th>\n",
       "      <th>mosaic_group</th>\n",
       "      <th>marital</th>\n",
       "      <th>poc</th>\n",
       "      <th>occupation</th>\n",
       "      <th>mortgage</th>\n",
       "      <th>home_owner</th>\n",
       "      <th>region</th>\n",
       "      <th>new_car</th>\n",
       "      <th>home_income</th>\n",
       "    </tr>\n",
       "  </thead>\n",
       "  <tbody>\n",
       "    <tr>\n",
       "      <th>count</th>\n",
       "      <td>30000</td>\n",
       "      <td>30000</td>\n",
       "      <td>29455</td>\n",
       "      <td>3.000000e+04</td>\n",
       "      <td>30000</td>\n",
       "      <td>30000</td>\n",
       "      <td>30000</td>\n",
       "      <td>19519</td>\n",
       "      <td>30000</td>\n",
       "      <td>30000</td>\n",
       "      <td>30000</td>\n",
       "      <td>27461</td>\n",
       "      <td>30000</td>\n",
       "      <td>30000.000000</td>\n",
       "      <td>30000</td>\n",
       "    </tr>\n",
       "    <tr>\n",
       "      <th>unique</th>\n",
       "      <td>2</td>\n",
       "      <td>3</td>\n",
       "      <td>5</td>\n",
       "      <td>NaN</td>\n",
       "      <td>7</td>\n",
       "      <td>2</td>\n",
       "      <td>11</td>\n",
       "      <td>2</td>\n",
       "      <td>4</td>\n",
       "      <td>6</td>\n",
       "      <td>3</td>\n",
       "      <td>2</td>\n",
       "      <td>5</td>\n",
       "      <td>NaN</td>\n",
       "      <td>13</td>\n",
       "    </tr>\n",
       "    <tr>\n",
       "      <th>top</th>\n",
       "      <td>N</td>\n",
       "      <td>M</td>\n",
       "      <td>2. Some College</td>\n",
       "      <td>NaN</td>\n",
       "      <td>5_&lt;=55</td>\n",
       "      <td>Y</td>\n",
       "      <td>B</td>\n",
       "      <td>Married</td>\n",
       "      <td>Y</td>\n",
       "      <td>Professional</td>\n",
       "      <td>1Low</td>\n",
       "      <td>Owner</td>\n",
       "      <td>South</td>\n",
       "      <td>NaN</td>\n",
       "      <td>E</td>\n",
       "    </tr>\n",
       "    <tr>\n",
       "      <th>freq</th>\n",
       "      <td>15005</td>\n",
       "      <td>16522</td>\n",
       "      <td>8559</td>\n",
       "      <td>NaN</td>\n",
       "      <td>6054</td>\n",
       "      <td>20533</td>\n",
       "      <td>6251</td>\n",
       "      <td>15722</td>\n",
       "      <td>13449</td>\n",
       "      <td>11232</td>\n",
       "      <td>22365</td>\n",
       "      <td>21963</td>\n",
       "      <td>11759</td>\n",
       "      <td>NaN</td>\n",
       "      <td>6285</td>\n",
       "    </tr>\n",
       "    <tr>\n",
       "      <th>mean</th>\n",
       "      <td>NaN</td>\n",
       "      <td>NaN</td>\n",
       "      <td>NaN</td>\n",
       "      <td>3.079385e+05</td>\n",
       "      <td>NaN</td>\n",
       "      <td>NaN</td>\n",
       "      <td>NaN</td>\n",
       "      <td>NaN</td>\n",
       "      <td>NaN</td>\n",
       "      <td>NaN</td>\n",
       "      <td>NaN</td>\n",
       "      <td>NaN</td>\n",
       "      <td>NaN</td>\n",
       "      <td>3.481000</td>\n",
       "      <td>NaN</td>\n",
       "    </tr>\n",
       "    <tr>\n",
       "      <th>std</th>\n",
       "      <td>NaN</td>\n",
       "      <td>NaN</td>\n",
       "      <td>NaN</td>\n",
       "      <td>4.255385e+05</td>\n",
       "      <td>NaN</td>\n",
       "      <td>NaN</td>\n",
       "      <td>NaN</td>\n",
       "      <td>NaN</td>\n",
       "      <td>NaN</td>\n",
       "      <td>NaN</td>\n",
       "      <td>NaN</td>\n",
       "      <td>NaN</td>\n",
       "      <td>NaN</td>\n",
       "      <td>2.573116</td>\n",
       "      <td>NaN</td>\n",
       "    </tr>\n",
       "    <tr>\n",
       "      <th>min</th>\n",
       "      <td>NaN</td>\n",
       "      <td>NaN</td>\n",
       "      <td>NaN</td>\n",
       "      <td>0.000000e+00</td>\n",
       "      <td>NaN</td>\n",
       "      <td>NaN</td>\n",
       "      <td>NaN</td>\n",
       "      <td>NaN</td>\n",
       "      <td>NaN</td>\n",
       "      <td>NaN</td>\n",
       "      <td>NaN</td>\n",
       "      <td>NaN</td>\n",
       "      <td>NaN</td>\n",
       "      <td>0.000000</td>\n",
       "      <td>NaN</td>\n",
       "    </tr>\n",
       "    <tr>\n",
       "      <th>25%</th>\n",
       "      <td>NaN</td>\n",
       "      <td>NaN</td>\n",
       "      <td>NaN</td>\n",
       "      <td>8.163175e+04</td>\n",
       "      <td>NaN</td>\n",
       "      <td>NaN</td>\n",
       "      <td>NaN</td>\n",
       "      <td>NaN</td>\n",
       "      <td>NaN</td>\n",
       "      <td>NaN</td>\n",
       "      <td>NaN</td>\n",
       "      <td>NaN</td>\n",
       "      <td>NaN</td>\n",
       "      <td>1.000000</td>\n",
       "      <td>NaN</td>\n",
       "    </tr>\n",
       "    <tr>\n",
       "      <th>50%</th>\n",
       "      <td>NaN</td>\n",
       "      <td>NaN</td>\n",
       "      <td>NaN</td>\n",
       "      <td>2.146915e+05</td>\n",
       "      <td>NaN</td>\n",
       "      <td>NaN</td>\n",
       "      <td>NaN</td>\n",
       "      <td>NaN</td>\n",
       "      <td>NaN</td>\n",
       "      <td>NaN</td>\n",
       "      <td>NaN</td>\n",
       "      <td>NaN</td>\n",
       "      <td>NaN</td>\n",
       "      <td>3.000000</td>\n",
       "      <td>NaN</td>\n",
       "    </tr>\n",
       "    <tr>\n",
       "      <th>75%</th>\n",
       "      <td>NaN</td>\n",
       "      <td>NaN</td>\n",
       "      <td>NaN</td>\n",
       "      <td>3.945250e+05</td>\n",
       "      <td>NaN</td>\n",
       "      <td>NaN</td>\n",
       "      <td>NaN</td>\n",
       "      <td>NaN</td>\n",
       "      <td>NaN</td>\n",
       "      <td>NaN</td>\n",
       "      <td>NaN</td>\n",
       "      <td>NaN</td>\n",
       "      <td>NaN</td>\n",
       "      <td>5.000000</td>\n",
       "      <td>NaN</td>\n",
       "    </tr>\n",
       "    <tr>\n",
       "      <th>max</th>\n",
       "      <td>NaN</td>\n",
       "      <td>NaN</td>\n",
       "      <td>NaN</td>\n",
       "      <td>9.999999e+06</td>\n",
       "      <td>NaN</td>\n",
       "      <td>NaN</td>\n",
       "      <td>NaN</td>\n",
       "      <td>NaN</td>\n",
       "      <td>NaN</td>\n",
       "      <td>NaN</td>\n",
       "      <td>NaN</td>\n",
       "      <td>NaN</td>\n",
       "      <td>NaN</td>\n",
       "      <td>9.000000</td>\n",
       "      <td>NaN</td>\n",
       "    </tr>\n",
       "  </tbody>\n",
       "</table>\n",
       "</div>"
      ],
      "text/plain": [
       "       target_flag gender        education    home_value     age buy_online  \\\n",
       "count        30000  30000            29455  3.000000e+04   30000      30000   \n",
       "unique           2      3                5           NaN       7          2   \n",
       "top              N      M  2. Some College           NaN  5_<=55          Y   \n",
       "freq         15005  16522             8559           NaN    6054      20533   \n",
       "mean           NaN    NaN              NaN  3.079385e+05     NaN        NaN   \n",
       "std            NaN    NaN              NaN  4.255385e+05     NaN        NaN   \n",
       "min            NaN    NaN              NaN  0.000000e+00     NaN        NaN   \n",
       "25%            NaN    NaN              NaN  8.163175e+04     NaN        NaN   \n",
       "50%            NaN    NaN              NaN  2.146915e+05     NaN        NaN   \n",
       "75%            NaN    NaN              NaN  3.945250e+05     NaN        NaN   \n",
       "max            NaN    NaN              NaN  9.999999e+06     NaN        NaN   \n",
       "\n",
       "       mosaic_group  marital    poc    occupation mortgage home_owner region  \\\n",
       "count         30000    19519  30000         30000    30000      27461  30000   \n",
       "unique           11        2      4             6        3          2      5   \n",
       "top               B  Married      Y  Professional     1Low      Owner  South   \n",
       "freq           6251    15722  13449         11232    22365      21963  11759   \n",
       "mean            NaN      NaN    NaN           NaN      NaN        NaN    NaN   \n",
       "std             NaN      NaN    NaN           NaN      NaN        NaN    NaN   \n",
       "min             NaN      NaN    NaN           NaN      NaN        NaN    NaN   \n",
       "25%             NaN      NaN    NaN           NaN      NaN        NaN    NaN   \n",
       "50%             NaN      NaN    NaN           NaN      NaN        NaN    NaN   \n",
       "75%             NaN      NaN    NaN           NaN      NaN        NaN    NaN   \n",
       "max             NaN      NaN    NaN           NaN      NaN        NaN    NaN   \n",
       "\n",
       "             new_car home_income  \n",
       "count   30000.000000       30000  \n",
       "unique           NaN          13  \n",
       "top              NaN           E  \n",
       "freq             NaN        6285  \n",
       "mean        3.481000         NaN  \n",
       "std         2.573116         NaN  \n",
       "min         0.000000         NaN  \n",
       "25%         1.000000         NaN  \n",
       "50%         3.000000         NaN  \n",
       "75%         5.000000         NaN  \n",
       "max         9.000000         NaN  "
      ]
     },
     "execution_count": 185,
     "metadata": {},
     "output_type": "execute_result"
    }
   ],
   "source": [
    "train.describe(include='all')"
   ]
  },
  {
   "cell_type": "code",
   "execution_count": 186,
   "metadata": {},
   "outputs": [
    {
     "name": "stdout",
     "output_type": "stream",
     "text": [
      "<class 'pandas.core.frame.DataFrame'>\n",
      "RangeIndex: 30000 entries, 0 to 29999\n",
      "Data columns (total 15 columns):\n",
      "target_flag     30000 non-null object\n",
      "gender          30000 non-null object\n",
      "education       29455 non-null object\n",
      "home_value      30000 non-null int64\n",
      "age             30000 non-null object\n",
      "buy_online      30000 non-null object\n",
      "mosaic_group    30000 non-null object\n",
      "marital         19519 non-null object\n",
      "poc             30000 non-null object\n",
      "occupation      30000 non-null object\n",
      "mortgage        30000 non-null object\n",
      "home_owner      27461 non-null object\n",
      "region          30000 non-null object\n",
      "new_car         30000 non-null int64\n",
      "home_income     30000 non-null object\n",
      "dtypes: int64(2), object(13)\n",
      "memory usage: 1.9+ MB\n"
     ]
    }
   ],
   "source": [
    "train.info()"
   ]
  },
  {
   "cell_type": "code",
   "execution_count": 187,
   "metadata": {},
   "outputs": [],
   "source": [
    "#为了方便后续处理,我们将变量划分为连续变量和离散变量\n",
    "\n",
    "cols = train.columns.tolist()\n",
    "x_c = ['home_value', 'new_car']\n",
    "x_d = list(set(cols) - set(x_c)); \n",
    "x_d.remove('target_flag')"
   ]
  },
  {
   "cell_type": "markdown",
   "metadata": {},
   "source": [
    "### 数据预处理\n",
    "\n",
    "#### 编码同时填补缺失值"
   ]
  },
  {
   "cell_type": "code",
   "execution_count": 188,
   "metadata": {},
   "outputs": [],
   "source": [
    "#自定义一个编码函数\n",
    "def label_encoder(series):\n",
    "    cat = series.value_counts(dropna=False)\n",
    "    len_series = len(series)\n",
    "    return {k:v for k, v in zip(cat.index, range(len_series))}\n",
    "\n",
    "#对所有的离散型解释变量进行编码,其中测试集的编码方式要与训练集的一致\n",
    "for col in x_d:\n",
    "    encoder = label_encoder(train[col])\n",
    "    train[col].replace(encoder, inplace=True)  # Encode train\n",
    "    test[col].replace(encoder, inplace=True)  # Encode test\n",
    "    \n",
    "    \n",
    "#被解释变量也需要通过类型转换\n",
    "encoder=label_encoder(train.target_flag)\n",
    "train.target_flag.replace(encoder,inplace=True)\n",
    "test.target_flag.replace(encoder,inplace=True)"
   ]
  },
  {
   "cell_type": "markdown",
   "metadata": {},
   "source": [
    "#### WOE编码（或哑变量变换）；sklearn中的决策树算法默认所有输入变量作为连续变量处理，因此对于分类变量，需要进行WOE转换。鉴于此，可以将所有变量统一作WOE转换"
   ]
  },
  {
   "cell_type": "markdown",
   "metadata": {},
   "source": [
    "Jupyter中引入包，只要包放在同一个文件加下即可"
   ]
  },
  {
   "cell_type": "code",
   "execution_count": 189,
   "metadata": {},
   "outputs": [],
   "source": [
    "from woe import WoE\n",
    "\n",
    "for col in x_d:\n",
    "    woe=WoE(v_type='d',t_type='b')\n",
    "    woe.fit(train[col],train.target_flag)\n",
    "    train[col]=woe.transform(train[col])['woe']\n",
    "    test[col]=woe.transform(test[col])['woe']\n"
   ]
  },
  {
   "cell_type": "code",
   "execution_count": 190,
   "metadata": {},
   "outputs": [
    {
     "data": {
      "text/html": [
       "<div>\n",
       "<style scoped>\n",
       "    .dataframe tbody tr th:only-of-type {\n",
       "        vertical-align: middle;\n",
       "    }\n",
       "\n",
       "    .dataframe tbody tr th {\n",
       "        vertical-align: top;\n",
       "    }\n",
       "\n",
       "    .dataframe thead th {\n",
       "        text-align: right;\n",
       "    }\n",
       "</style>\n",
       "<table border=\"1\" class=\"dataframe\">\n",
       "  <thead>\n",
       "    <tr style=\"text-align: right;\">\n",
       "      <th></th>\n",
       "      <th>target_flag</th>\n",
       "      <th>gender</th>\n",
       "      <th>education</th>\n",
       "      <th>home_value</th>\n",
       "      <th>age</th>\n",
       "      <th>buy_online</th>\n",
       "      <th>mosaic_group</th>\n",
       "      <th>marital</th>\n",
       "      <th>poc</th>\n",
       "      <th>occupation</th>\n",
       "      <th>mortgage</th>\n",
       "      <th>home_owner</th>\n",
       "      <th>region</th>\n",
       "      <th>new_car</th>\n",
       "      <th>home_income</th>\n",
       "    </tr>\n",
       "  </thead>\n",
       "  <tbody>\n",
       "    <tr>\n",
       "      <th>0</th>\n",
       "      <td>1</td>\n",
       "      <td>0.388459</td>\n",
       "      <td>0.654383</td>\n",
       "      <td>756460</td>\n",
       "      <td>-0.489924</td>\n",
       "      <td>-0.645624</td>\n",
       "      <td>0.496589</td>\n",
       "      <td>-0.423279</td>\n",
       "      <td>0.024719</td>\n",
       "      <td>0.602608</td>\n",
       "      <td>-0.26241</td>\n",
       "      <td>-0.251948</td>\n",
       "      <td>-0.147533</td>\n",
       "      <td>1</td>\n",
       "      <td>0.922591</td>\n",
       "    </tr>\n",
       "    <tr>\n",
       "      <th>1</th>\n",
       "      <td>0</td>\n",
       "      <td>-0.443879</td>\n",
       "      <td>0.513493</td>\n",
       "      <td>213171</td>\n",
       "      <td>-0.670878</td>\n",
       "      <td>-0.645624</td>\n",
       "      <td>-0.018658</td>\n",
       "      <td>-0.423279</td>\n",
       "      <td>0.024719</td>\n",
       "      <td>0.602608</td>\n",
       "      <td>-0.26241</td>\n",
       "      <td>0.157707</td>\n",
       "      <td>0.032415</td>\n",
       "      <td>3</td>\n",
       "      <td>0.367741</td>\n",
       "    </tr>\n",
       "    <tr>\n",
       "      <th>2</th>\n",
       "      <td>0</td>\n",
       "      <td>0.388459</td>\n",
       "      <td>-0.028077</td>\n",
       "      <td>111147</td>\n",
       "      <td>-0.740683</td>\n",
       "      <td>0.289713</td>\n",
       "      <td>0.755544</td>\n",
       "      <td>-0.423279</td>\n",
       "      <td>0.111867</td>\n",
       "      <td>0.602608</td>\n",
       "      <td>-0.26241</td>\n",
       "      <td>0.157707</td>\n",
       "      <td>-0.147533</td>\n",
       "      <td>1</td>\n",
       "      <td>0.882186</td>\n",
       "    </tr>\n",
       "    <tr>\n",
       "      <th>3</th>\n",
       "      <td>1</td>\n",
       "      <td>0.388459</td>\n",
       "      <td>-0.028077</td>\n",
       "      <td>354151</td>\n",
       "      <td>-0.740683</td>\n",
       "      <td>0.289713</td>\n",
       "      <td>0.496589</td>\n",
       "      <td>-0.169880</td>\n",
       "      <td>0.024719</td>\n",
       "      <td>-0.249091</td>\n",
       "      <td>-0.26241</td>\n",
       "      <td>-0.251948</td>\n",
       "      <td>0.087040</td>\n",
       "      <td>2</td>\n",
       "      <td>0.922591</td>\n",
       "    </tr>\n",
       "    <tr>\n",
       "      <th>4</th>\n",
       "      <td>1</td>\n",
       "      <td>-0.443879</td>\n",
       "      <td>-0.028077</td>\n",
       "      <td>117087</td>\n",
       "      <td>-0.489924</td>\n",
       "      <td>0.289713</td>\n",
       "      <td>-0.742657</td>\n",
       "      <td>0.321675</td>\n",
       "      <td>0.111867</td>\n",
       "      <td>-0.249091</td>\n",
       "      <td>-0.26241</td>\n",
       "      <td>-0.251948</td>\n",
       "      <td>0.006279</td>\n",
       "      <td>7</td>\n",
       "      <td>0.496493</td>\n",
       "    </tr>\n",
       "  </tbody>\n",
       "</table>\n",
       "</div>"
      ],
      "text/plain": [
       "   target_flag    gender  education  home_value       age  buy_online  \\\n",
       "0            1  0.388459   0.654383      756460 -0.489924   -0.645624   \n",
       "1            0 -0.443879   0.513493      213171 -0.670878   -0.645624   \n",
       "2            0  0.388459  -0.028077      111147 -0.740683    0.289713   \n",
       "3            1  0.388459  -0.028077      354151 -0.740683    0.289713   \n",
       "4            1 -0.443879  -0.028077      117087 -0.489924    0.289713   \n",
       "\n",
       "   mosaic_group   marital       poc  occupation  mortgage  home_owner  \\\n",
       "0      0.496589 -0.423279  0.024719    0.602608  -0.26241   -0.251948   \n",
       "1     -0.018658 -0.423279  0.024719    0.602608  -0.26241    0.157707   \n",
       "2      0.755544 -0.423279  0.111867    0.602608  -0.26241    0.157707   \n",
       "3      0.496589 -0.169880  0.024719   -0.249091  -0.26241   -0.251948   \n",
       "4     -0.742657  0.321675  0.111867   -0.249091  -0.26241   -0.251948   \n",
       "\n",
       "     region  new_car  home_income  \n",
       "0 -0.147533        1     0.922591  \n",
       "1  0.032415        3     0.367741  \n",
       "2 -0.147533        1     0.882186  \n",
       "3  0.087040        2     0.922591  \n",
       "4  0.006279        7     0.496493  "
      ]
     },
     "execution_count": 190,
     "metadata": {},
     "output_type": "execute_result"
    }
   ],
   "source": [
    "train.head()"
   ]
  },
  {
   "cell_type": "markdown",
   "metadata": {},
   "source": [
    "### 建模\n",
    "\n",
    "在没有进行变量筛选的情况下，通过搜索参数网格，选择模型的最优超参"
   ]
  },
  {
   "cell_type": "code",
   "execution_count": 191,
   "metadata": {},
   "outputs": [
    {
     "name": "stdout",
     "output_type": "stream",
     "text": [
      "best_score:0.7405\n",
      "best_params： {'max_leaf_nodes': 56, 'min_samples_split': 50}\n"
     ]
    }
   ],
   "source": [
    "from sklearn.tree import DecisionTreeClassifier\n",
    "from sklearn.model_selection import GridSearchCV\n",
    "\n",
    "dt=DecisionTreeClassifier()\n",
    "grid={\n",
    "    'max_leaf_nodes':np.arange(32,64,6),\n",
    "    'min_samples_split':np.arange(50,301,50)\n",
    "}\n",
    "cv=GridSearchCV(dt,grid,scoring='roc_auc',cv=4,n_jobs=-1)\n",
    "cv.fit(train.ix[:,1:],train['target_flag'])\n",
    "\n",
    "print('best_score:%2.4f' %cv.best_score_)\n",
    "print('best_params： %s' %cv.best_params_)"
   ]
  },
  {
   "cell_type": "code",
   "execution_count": 192,
   "metadata": {},
   "outputs": [
    {
     "name": "stdout",
     "output_type": "stream",
     "text": [
      "0.7376618176618177\n"
     ]
    }
   ],
   "source": [
    "#查看模型在测试集上的表现\n",
    "\n",
    "from sklearn.metrics import roc_auc_score, roc_curve\n",
    "\n",
    "test_p = cv.predict_proba(test.ix[:, 1:])\n",
    "print(roc_auc_score(test.target_flag, test_p[:, 1]))"
   ]
  },
  {
   "cell_type": "code",
   "execution_count": 193,
   "metadata": {},
   "outputs": [
    {
     "data": {
      "image/png": "[encoded data removed]",
      "text/plain": [
       "<Figure size 288x288 with 1 Axes>"
      ]
     },
     "metadata": {},
     "output_type": "display_data"
    }
   ],
   "source": [
    "#模型评估（模型的过拟合情况不太严重）\n",
    "train_p = cv.predict_proba(train.ix[:, 1:])\n",
    "test_p = cv.predict_proba(test.ix[:, 1:])\n",
    "fpr_test, tpr_test, th_test = roc_curve(test.target_flag, test_p[:, 1])\n",
    "\n",
    "fpr_train, tpr_train, th_train = roc_curve(train.target_flag, train_p[:, 1])\n",
    "\n",
    "plt.figure(figsize=[4, 4])\n",
    "plt.plot(fpr_test, tpr_test, 'b--')\n",
    "plt.plot(fpr_train, tpr_train, 'r-')\n",
    "plt.title('ROC curve')\n",
    "plt.show()"
   ]
  },
  {
   "cell_type": "markdown",
   "metadata": {},
   "source": [
    "### 通过筛选变量可以改善模型过拟合的情况"
   ]
  },
  {
   "cell_type": "markdown",
   "metadata": {},
   "source": [
    "决策树生长中，每一步都会计算变量的重要性，最终能够汇总各变量对整个模型的重要性。因此自然会想到利用决策树本身计算的变量重要性进行变量筛选"
   ]
  },
  {
   "cell_type": "code",
   "execution_count": 194,
   "metadata": {},
   "outputs": [
    {
     "data": {
      "text/plain": [
       "[('gender', 0.17690022113950998),\n",
       " ('education', 0.10046755505360414),\n",
       " ('home_value', 0.075251210069869),\n",
       " ('age', 0.13261235794759016),\n",
       " ('buy_online', 0.0739696987615009),\n",
       " ('mosaic_group', 0.33670508714260966),\n",
       " ('marital', 0.030026959065899927),\n",
       " ('poc', 0.0),\n",
       " ('occupation', 0.035910899584784925),\n",
       " ('mortgage', 0.01803367198613054),\n",
       " ('home_owner', 0.0),\n",
       " ('region', 0.002560147359173822),\n",
       " ('new_car', 0.009602062467822884),\n",
       " ('home_income', 0.007960129421504128)]"
      ]
     },
     "execution_count": 194,
     "metadata": {},
     "output_type": "execute_result"
    }
   ],
   "source": [
    "imp = cv.best_estimator_.feature_importances_\n",
    "list(zip(train.ix[:, 1:].columns, imp))"
   ]
  },
  {
   "cell_type": "markdown",
   "metadata": {},
   "source": [
    "去除部分重要性不高的变量"
   ]
  },
  {
   "cell_type": "code",
   "execution_count": 195,
   "metadata": {},
   "outputs": [],
   "source": [
    "train= train.drop(\n",
    "    ['poc', 'home_owner', 'region', 'home_income','mortgage'], axis=1)\n",
    "test = test.drop(\n",
    "    ['poc', 'home_owner', 'region', 'home_income','mortgage'], axis=1)"
   ]
  },
  {
   "cell_type": "markdown",
   "metadata": {},
   "source": [
    "重新拟合模型"
   ]
  },
  {
   "cell_type": "code",
   "execution_count": 196,
   "metadata": {},
   "outputs": [
    {
     "name": "stdout",
     "output_type": "stream",
     "text": [
      "best_score:0.7400\n",
      "best_params: {'max_leaf_nodes': 56, 'min_samples_split': 300}\n"
     ]
    }
   ],
   "source": [
    "cv.fit(train.ix[:, 1:], train['target_flag'])\n",
    "\n",
    "print('best_score:%2.4f'  %cv.best_score_)\n",
    "print('best_params: %s' %cv.best_params_)"
   ]
  },
  {
   "cell_type": "markdown",
   "metadata": {},
   "source": [
    "当去除了部分变量后，模型的表现有所提升"
   ]
  },
  {
   "cell_type": "code",
   "execution_count": 197,
   "metadata": {},
   "outputs": [
    {
     "name": "stdout",
     "output_type": "stream",
     "text": [
      "0.7397821997821997\n"
     ]
    }
   ],
   "source": [
    "train_p = cv.predict_proba(train.ix[:, 1:])\n",
    "test_p = cv.predict_proba(test.ix[:, 1:])\n",
    "print(roc_auc_score(test.target_flag, test_p[:, 1]))"
   ]
  },
  {
   "cell_type": "code",
   "execution_count": 199,
   "metadata": {},
   "outputs": [
    {
     "data": {
      "image/png": "[encoded data removed]",
      "text/plain": [
       "<Figure size 288x288 with 1 Axes>"
      ]
     },
     "metadata": {},
     "output_type": "display_data"
    },
    {
     "name": "stdout",
     "output_type": "stream",
     "text": [
      "0.7706014100668233\n",
      "0.7576385376385376\n"
     ]
    }
   ],
   "source": [
    "#模型表现比之前要好\n",
    "\n",
    "fpr_test, tpr_test, th_test = roc_curve(test.target_flag, test_p[:, 1])\n",
    "\n",
    "fpr_train, tpr_train, th_train = roc_curve(train.target_flag, train_p[:, 1])\n",
    "\n",
    "plt.figure(figsize=[4, 4])\n",
    "plt.plot(fpr_test, tpr_test, 'b--')\n",
    "plt.plot(fpr_train, tpr_train, 'r-')\n",
    "plt.title('ROC curve')\n",
    "plt.show()\n",
    "\n",
    "\n",
    "\n",
    "#使用组合方法提高模型表现\n",
    "from sklearn.ensemble import GradientBoostingClassifier\n",
    "\n",
    "gbc = GradientBoostingClassifier()\n",
    "gbc.fit(train.ix[:, 1:], train.target_flag)\n",
    "gbc_train_p = gbc.predict_proba(train.ix[:, 1:])\n",
    "gbc_test_p = gbc.predict_proba(test.ix[:, 1:])\n",
    "\n",
    "print(roc_auc_score(train.target_flag, gbc_train_p[:, 1]))\n",
    "print(roc_auc_score(test.target_flag, gbc_test_p[:, 1]))"
   ]
  },
  {
   "cell_type": "markdown",
   "metadata": {},
   "source": [
    "#### 模型优化\n",
    "\n",
    "- 对连续型变量进行离散化,对离散化的结果进行WOE编码"
   ]
  },
  {
   "cell_type": "code",
   "execution_count": 165,
   "metadata": {},
   "outputs": [
    {
     "data": {
      "text/html": [
       "<div>\n",
       "<style scoped>\n",
       "    .dataframe tbody tr th:only-of-type {\n",
       "        vertical-align: middle;\n",
       "    }\n",
       "\n",
       "    .dataframe tbody tr th {\n",
       "        vertical-align: top;\n",
       "    }\n",
       "\n",
       "    .dataframe thead th {\n",
       "        text-align: right;\n",
       "    }\n",
       "</style>\n",
       "<table border=\"1\" class=\"dataframe\">\n",
       "  <thead>\n",
       "    <tr style=\"text-align: right;\">\n",
       "      <th></th>\n",
       "      <th>hv_brand</th>\n",
       "      <th>target_flag</th>\n",
       "    </tr>\n",
       "  </thead>\n",
       "  <tbody>\n",
       "    <tr>\n",
       "      <th>0</th>\n",
       "      <td>(-0.001, 26753.4]</td>\n",
       "      <td>0.349000</td>\n",
       "    </tr>\n",
       "    <tr>\n",
       "      <th>1</th>\n",
       "      <td>(26753.4, 165952.0]</td>\n",
       "      <td>0.353549</td>\n",
       "    </tr>\n",
       "    <tr>\n",
       "      <th>2</th>\n",
       "      <td>(165952.0, 272009.0]</td>\n",
       "      <td>0.520920</td>\n",
       "    </tr>\n",
       "    <tr>\n",
       "      <th>3</th>\n",
       "      <td>(272009.0, 456165.0]</td>\n",
       "      <td>0.605430</td>\n",
       "    </tr>\n",
       "    <tr>\n",
       "      <th>4</th>\n",
       "      <td>(456165.0, 9999999.0]</td>\n",
       "      <td>0.670392</td>\n",
       "    </tr>\n",
       "  </tbody>\n",
       "</table>\n",
       "</div>"
      ],
      "text/plain": [
       "                hv_brand  target_flag\n",
       "0      (-0.001, 26753.4]     0.349000\n",
       "1    (26753.4, 165952.0]     0.353549\n",
       "2   (165952.0, 272009.0]     0.520920\n",
       "3   (272009.0, 456165.0]     0.605430\n",
       "4  (456165.0, 9999999.0]     0.670392"
      ]
     },
     "execution_count": 165,
     "metadata": {},
     "output_type": "execute_result"
    }
   ],
   "source": [
    "#将home_value的值分箱处理\n",
    "\n",
    "combine=[train,test]\n",
    "train['hv_brand']=pd.qcut(train['home_value'],5)\n",
    "train[['hv_brand', 'target_flag']].groupby(['hv_brand'], as_index=False).mean().sort_values(by='hv_brand', ascending=True)"
   ]
  },
  {
   "cell_type": "code",
   "execution_count": 166,
   "metadata": {},
   "outputs": [
    {
     "data": {
      "text/html": [
       "<div>\n",
       "<style scoped>\n",
       "    .dataframe tbody tr th:only-of-type {\n",
       "        vertical-align: middle;\n",
       "    }\n",
       "\n",
       "    .dataframe tbody tr th {\n",
       "        vertical-align: top;\n",
       "    }\n",
       "\n",
       "    .dataframe thead th {\n",
       "        text-align: right;\n",
       "    }\n",
       "</style>\n",
       "<table border=\"1\" class=\"dataframe\">\n",
       "  <thead>\n",
       "    <tr style=\"text-align: right;\">\n",
       "      <th></th>\n",
       "      <th>target_flag</th>\n",
       "      <th>gender</th>\n",
       "      <th>education</th>\n",
       "      <th>home_value</th>\n",
       "      <th>age</th>\n",
       "      <th>buy_online</th>\n",
       "      <th>mosaic_group</th>\n",
       "      <th>marital</th>\n",
       "      <th>occupation</th>\n",
       "      <th>new_car</th>\n",
       "    </tr>\n",
       "  </thead>\n",
       "  <tbody>\n",
       "    <tr>\n",
       "      <th>0</th>\n",
       "      <td>1</td>\n",
       "      <td>0.388459</td>\n",
       "      <td>0.654383</td>\n",
       "      <td>4</td>\n",
       "      <td>-0.489924</td>\n",
       "      <td>-0.645624</td>\n",
       "      <td>0.496589</td>\n",
       "      <td>-0.423279</td>\n",
       "      <td>0.602608</td>\n",
       "      <td>1</td>\n",
       "    </tr>\n",
       "    <tr>\n",
       "      <th>1</th>\n",
       "      <td>0</td>\n",
       "      <td>-0.443879</td>\n",
       "      <td>0.513493</td>\n",
       "      <td>2</td>\n",
       "      <td>-0.670878</td>\n",
       "      <td>-0.645624</td>\n",
       "      <td>-0.018658</td>\n",
       "      <td>-0.423279</td>\n",
       "      <td>0.602608</td>\n",
       "      <td>3</td>\n",
       "    </tr>\n",
       "    <tr>\n",
       "      <th>2</th>\n",
       "      <td>0</td>\n",
       "      <td>0.388459</td>\n",
       "      <td>-0.028077</td>\n",
       "      <td>1</td>\n",
       "      <td>-0.740683</td>\n",
       "      <td>0.289713</td>\n",
       "      <td>0.755544</td>\n",
       "      <td>-0.423279</td>\n",
       "      <td>0.602608</td>\n",
       "      <td>1</td>\n",
       "    </tr>\n",
       "    <tr>\n",
       "      <th>3</th>\n",
       "      <td>1</td>\n",
       "      <td>0.388459</td>\n",
       "      <td>-0.028077</td>\n",
       "      <td>3</td>\n",
       "      <td>-0.740683</td>\n",
       "      <td>0.289713</td>\n",
       "      <td>0.496589</td>\n",
       "      <td>-0.169880</td>\n",
       "      <td>-0.249091</td>\n",
       "      <td>2</td>\n",
       "    </tr>\n",
       "    <tr>\n",
       "      <th>4</th>\n",
       "      <td>1</td>\n",
       "      <td>-0.443879</td>\n",
       "      <td>-0.028077</td>\n",
       "      <td>1</td>\n",
       "      <td>-0.489924</td>\n",
       "      <td>0.289713</td>\n",
       "      <td>-0.742657</td>\n",
       "      <td>0.321675</td>\n",
       "      <td>-0.249091</td>\n",
       "      <td>7</td>\n",
       "    </tr>\n",
       "    <tr>\n",
       "      <th>5</th>\n",
       "      <td>1</td>\n",
       "      <td>-0.443879</td>\n",
       "      <td>0.513493</td>\n",
       "      <td>2</td>\n",
       "      <td>0.224615</td>\n",
       "      <td>0.289713</td>\n",
       "      <td>0.496589</td>\n",
       "      <td>0.321675</td>\n",
       "      <td>0.602608</td>\n",
       "      <td>1</td>\n",
       "    </tr>\n",
       "    <tr>\n",
       "      <th>6</th>\n",
       "      <td>1</td>\n",
       "      <td>0.388459</td>\n",
       "      <td>0.513493</td>\n",
       "      <td>4</td>\n",
       "      <td>-0.489924</td>\n",
       "      <td>0.289713</td>\n",
       "      <td>0.367337</td>\n",
       "      <td>0.321675</td>\n",
       "      <td>0.602608</td>\n",
       "      <td>5</td>\n",
       "    </tr>\n",
       "    <tr>\n",
       "      <th>7</th>\n",
       "      <td>0</td>\n",
       "      <td>-0.443879</td>\n",
       "      <td>0.513493</td>\n",
       "      <td>3</td>\n",
       "      <td>0.508850</td>\n",
       "      <td>0.289713</td>\n",
       "      <td>0.755544</td>\n",
       "      <td>0.321675</td>\n",
       "      <td>0.602608</td>\n",
       "      <td>2</td>\n",
       "    </tr>\n",
       "    <tr>\n",
       "      <th>8</th>\n",
       "      <td>0</td>\n",
       "      <td>-0.443879</td>\n",
       "      <td>-0.569207</td>\n",
       "      <td>2</td>\n",
       "      <td>0.396473</td>\n",
       "      <td>0.289713</td>\n",
       "      <td>-0.766360</td>\n",
       "      <td>-0.423279</td>\n",
       "      <td>-0.395345</td>\n",
       "      <td>5</td>\n",
       "    </tr>\n",
       "    <tr>\n",
       "      <th>9</th>\n",
       "      <td>1</td>\n",
       "      <td>0.388459</td>\n",
       "      <td>-0.569207</td>\n",
       "      <td>2</td>\n",
       "      <td>-0.489924</td>\n",
       "      <td>0.289713</td>\n",
       "      <td>0.755544</td>\n",
       "      <td>0.321675</td>\n",
       "      <td>-0.249091</td>\n",
       "      <td>6</td>\n",
       "    </tr>\n",
       "  </tbody>\n",
       "</table>\n",
       "</div>"
      ],
      "text/plain": [
       "   target_flag    gender  education  home_value       age  buy_online  \\\n",
       "0            1  0.388459   0.654383           4 -0.489924   -0.645624   \n",
       "1            0 -0.443879   0.513493           2 -0.670878   -0.645624   \n",
       "2            0  0.388459  -0.028077           1 -0.740683    0.289713   \n",
       "3            1  0.388459  -0.028077           3 -0.740683    0.289713   \n",
       "4            1 -0.443879  -0.028077           1 -0.489924    0.289713   \n",
       "5            1 -0.443879   0.513493           2  0.224615    0.289713   \n",
       "6            1  0.388459   0.513493           4 -0.489924    0.289713   \n",
       "7            0 -0.443879   0.513493           3  0.508850    0.289713   \n",
       "8            0 -0.443879  -0.569207           2  0.396473    0.289713   \n",
       "9            1  0.388459  -0.569207           2 -0.489924    0.289713   \n",
       "\n",
       "   mosaic_group   marital  occupation  new_car  \n",
       "0      0.496589 -0.423279    0.602608        1  \n",
       "1     -0.018658 -0.423279    0.602608        3  \n",
       "2      0.755544 -0.423279    0.602608        1  \n",
       "3      0.496589 -0.169880   -0.249091        2  \n",
       "4     -0.742657  0.321675   -0.249091        7  \n",
       "5      0.496589  0.321675    0.602608        1  \n",
       "6      0.367337  0.321675    0.602608        5  \n",
       "7      0.755544  0.321675    0.602608        2  \n",
       "8     -0.766360 -0.423279   -0.395345        5  \n",
       "9      0.755544  0.321675   -0.249091        6  "
      ]
     },
     "execution_count": 166,
     "metadata": {},
     "output_type": "execute_result"
    }
   ],
   "source": [
    "for dataset in combine:\n",
    "    dataset.loc[dataset['home_value']<=26753.4,'home_value']=0\n",
    "    dataset.loc[(dataset['home_value']>26753.4) & (dataset['home_value']<=165952.0),'home_value']=1\n",
    "    dataset.loc[(dataset['home_value']>165952.0) & (dataset['home_value']<=272009.0),'home_value']=2\n",
    "    dataset.loc[(dataset['home_value']>272009.0) & (dataset['home_value']<=456165.0),'home_value']=3\n",
    "    dataset.loc[(dataset['home_value']>456165.0) & (dataset['home_value']<=9999999.0),'home_value']=4\n",
    "    dataset['home_value']=dataset['home_value'].astype(int)\n",
    "    \n",
    "train=train.drop(['hv_brand'],axis=1)\n",
    "combine = [train, test]\n",
    "train.head(10)"
   ]
  },
  {
   "cell_type": "code",
   "execution_count": 168,
   "metadata": {},
   "outputs": [],
   "source": [
    "from woe import WoE\n",
    "\n",
    "for col in x_c:\n",
    "    woe=WoE(v_type='d',t_type='b')\n",
    "    woe.fit(train[col],train.target_flag)\n",
    "    train[col]=woe.transform(train[col])['woe']\n",
    "    test[col]=woe.transform(test[col])['woe']"
   ]
  },
  {
   "cell_type": "code",
   "execution_count": 175,
   "metadata": {},
   "outputs": [
    {
     "data": {
      "text/plain": [
       "mosaic_group    0.331782\n",
       "home_value      0.280271\n",
       "education       0.274997\n",
       "new_car         0.271476\n",
       "occupation      0.241121\n",
       "age             0.209137\n",
       "gender          0.193129\n",
       "buy_online      0.184189\n",
       "marital         0.119084\n",
       "dtype: float64"
      ]
     },
     "execution_count": 175,
     "metadata": {},
     "output_type": "execute_result"
    }
   ],
   "source": [
    "#对变量进行IV值得筛选\n",
    "\n",
    "\n",
    "cols = set(train.columns.tolist())-set(['target_flag'])\n",
    "iv_c = {}\n",
    "for i in cols:\n",
    "    iv_c[i] = WoE(v_type='d').fit(train[i],train['target_flag']).iv \n",
    "sort_iv_c = pd.Series(iv_c).sort_values(ascending=False)\n",
    "sort_iv_c"
   ]
  },
  {
   "cell_type": "code",
   "execution_count": 176,
   "metadata": {},
   "outputs": [
    {
     "name": "stdout",
     "output_type": "stream",
     "text": [
      "best_score:0.7400\n",
      "best_params: {'max_leaf_nodes': 62, 'min_samples_split': 150}\n"
     ]
    }
   ],
   "source": [
    "#建模\n",
    "\n",
    "cv.fit(train.ix[:,1:],train['target_flag'])\n",
    "print('best_score:%2.4f'  %cv.best_score_)\n",
    "print('best_params: %s' %cv.best_params_)"
   ]
  },
  {
   "cell_type": "code",
   "execution_count": 180,
   "metadata": {},
   "outputs": [
    {
     "data": {
      "image/png": "[encoded data removed]",
      "text/plain": [
       "<Figure size 288x288 with 1 Axes>"
      ]
     },
     "metadata": {},
     "output_type": "display_data"
    }
   ],
   "source": [
    "\n",
    "\n",
    "#模型评估（模型的过拟合情况不太严重）\n",
    "train_p = cv.predict_proba(train.ix[:, 1:])\n",
    "test_p = cv.predict_proba(test.ix[:, 1:])\n",
    "fpr_test, tpr_test, th_test = roc_curve(test.target_flag, test_p[:, 1])\n",
    "\n",
    "fpr_train, tpr_train, th_train = roc_curve(train.target_flag, train_p[:, 1])\n",
    "\n",
    "plt.figure(figsize=[4, 4])\n",
    "plt.plot(fpr_test, tpr_test, 'b--')\n",
    "plt.plot(fpr_train, tpr_train, 'r-')\n",
    "plt.title('ROC curve')\n",
    "plt.show()"
   ]
  },
  {
   "cell_type": "code",
   "execution_count": 181,
   "metadata": {},
   "outputs": [
    {
     "data": {
      "text/plain": [
       "[('gender', 0.1772414039593889),\n",
       " ('education', 0.10358755942305849),\n",
       " ('home_value', 0.04165321068771178),\n",
       " ('age', 0.115118248740859),\n",
       " ('buy_online', 0.08317584453841767),\n",
       " ('mosaic_group', 0.3391510453998626),\n",
       " ('marital', 0.03299929124604115),\n",
       " ('occupation', 0.0797381605289854),\n",
       " ('new_car', 0.027335235475675127)]"
      ]
     },
     "execution_count": 181,
     "metadata": {},
     "output_type": "execute_result"
    }
   ],
   "source": [
    "imp = cv.best_estimator_.feature_importances_\n",
    "list(zip(train.ix[:, 1:].columns, imp))"
   ]
  },
  {
   "cell_type": "code",
   "execution_count": 182,
   "metadata": {},
   "outputs": [
    {
     "name": "stdout",
     "output_type": "stream",
     "text": [
      "0.7694442343826927\n",
      "0.7582216582216581\n"
     ]
    }
   ],
   "source": [
    "#使用组合方法提高模型表现（测试集得分数相较优化前有显著提升）\n",
    "from sklearn.ensemble import GradientBoostingClassifier\n",
    "\n",
    "gbc = GradientBoostingClassifier()\n",
    "gbc.fit(train.ix[:, 1:], train.target_flag)\n",
    "gbc_train_p = gbc.predict_proba(train.ix[:, 1:])\n",
    "gbc_test_p = gbc.predict_proba(test.ix[:, 1:])\n",
    "\n",
    "print(roc_auc_score(train.target_flag, gbc_train_p[:, 1]))\n",
    "print(roc_auc_score(test.target_flag, gbc_test_p[:, 1]))"
   ]
  },
  {
   "cell_type": "code",
   "execution_count": 200,
   "metadata": {},
   "outputs": [
    {
     "data": {
      "image/png": "[encoded data removed]",
      "text/plain": [
       "<Figure size 288x288 with 1 Axes>"
      ]
     },
     "metadata": {},
     "output_type": "display_data"
    }
   ],
   "source": [
    "train_p = gbc.predict_proba(train.ix[:, 1:])\n",
    "test_p = gbc.predict_proba(test.ix[:, 1:])\n",
    "fpr_test, tpr_test, th_test = roc_curve(test.target_flag, test_p[:, 1])\n",
    "\n",
    "fpr_train, tpr_train, th_train = roc_curve(train.target_flag, train_p[:, 1])\n",
    "\n",
    "plt.figure(figsize=[4, 4])\n",
    "plt.plot(fpr_test, tpr_test, 'b--')\n",
    "plt.plot(fpr_train, tpr_train, 'r-')\n",
    "plt.title('ROC curve')\n",
    "plt.show()"
   ]
  },
  {
   "cell_type": "code",
   "execution_count": null,
   "metadata": {},
   "outputs": [],
   "source": []
  }
 ],
 "metadata": {
  "kernelspec": {
   "display_name": "Python 3",
   "language": "python",
   "name": "python3"
  },
  "language_info": {
   "codemirror_mode": {
    "name": "ipython",
    "version": 3
   },
   "file_extension": ".py",
   "mimetype": "text/x-python",
   "name": "python",
   "nbconvert_exporter": "python",
   "pygments_lexer": "ipython3",
   "version": "3.6.4"
  }
 },
 "nbformat": 4,
 "nbformat_minor": 2
}
